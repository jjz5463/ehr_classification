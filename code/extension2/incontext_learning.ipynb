{
  "nbformat": 4,
  "nbformat_minor": 0,
  "metadata": {
    "colab": {
      "provenance": [],
      "toc_visible": true
    },
    "kernelspec": {
      "name": "python3",
      "display_name": "Python 3"
    },
    "language_info": {
      "name": "python"
    }
  },
  "cells": [
    {
      "cell_type": "markdown",
      "source": [
        "# Prepare 2-shot prompt dataset"
      ],
      "metadata": {
        "id": "Gl23TOmpZ-jT"
      }
    },
    {
      "cell_type": "code",
      "execution_count": null,
      "metadata": {
        "id": "n0UnOjwNcBtU"
      },
      "outputs": [],
      "source": [
        "import pandas as pd\n",
        "\n",
        "# Load the training and test data\n",
        "train_texts_df = pd.read_csv('train_texts.csv')\n",
        "train_labels_df = pd.read_csv('train_labels.csv')\n",
        "test_texts_df = pd.read_csv('test_texts.csv')\n",
        "test_labels_df = pd.read_csv('test_labels.csv')"
      ]
    },
    {
      "cell_type": "code",
      "source": [
        "# Modified code to create a list of prompts, each with different 2 samples for each test text\n",
        "def create_individual_prompts(train_texts, train_labels, test_texts, task_description=\"Classify the following text into one of the categories: Home, Extended Care, Expired. Answer in 1 single word.\"):\n",
        "    prompts = []\n",
        "    unique_labels = train_labels['label'].unique()\n",
        "\n",
        "    for i in range(len(test_texts)):\n",
        "        selected_samples = []\n",
        "        for label in unique_labels[:2]:  # Select two samples from different classes\n",
        "            sample = train_texts[train_labels['label'] == label].sample(1).iloc[0]\n",
        "            selected_samples.append((sample['text'], label))\n",
        "\n",
        "        # Creating individual prompt for each test text\n",
        "        prompt = ''\n",
        "        for text, label in selected_samples:\n",
        "            prompt += f\"Text: {text}\\nLabel: {label}\\n\\n\"\n",
        "        prompt += task_description + \"\\n\\n\"\n",
        "        prompt += f\"Text: {test_texts.iloc[i]['text']}\\nLabel: \"\n",
        "        prompts.append(prompt)\n",
        "\n",
        "    return prompts\n",
        "\n",
        "# Generating prompts for each test text\n",
        "individual_prompts = create_individual_prompts(train_texts_df, train_labels_df, test_texts_df)"
      ],
      "metadata": {
        "id": "h1X8zaoFdDew"
      },
      "execution_count": null,
      "outputs": []
    },
    {
      "cell_type": "code",
      "source": [
        "# Display the first prompt as an example\n",
        "individual_prompts[2]"
      ],
      "metadata": {
        "colab": {
          "base_uri": "https://localhost:8080/",
          "height": 672
        },
        "id": "oNgqRr-1exqk",
        "outputId": "7c4db746-4ef8-4780-d04b-7468c2026ec0"
      },
      "execution_count": null,
      "outputs": [
        {
          "output_type": "execute_result",
          "data": {
            "text/plain": [
              "'Text: allergies is penicillins . chief complaint is hypotension, fevers . major surgical or invasive procedure is none . physical exam is none . brief hospital course is none\\nLabel: Extended Care\\n\\nText: allergies is no known allergies / adverse drug reactions . chief complaint is cardiac arrest . major surgical or invasive procedure is icd placement device brand/name af mri vr dvfb1d4 model number lead model sprint mri, mr yes, lead position rv, lead length 62 cm, manufacturer , serial number , implant date . physical exam is admission physical ================== general well developed, well nourished in nad heent nc/at sclera anicteric perrl eomi neck supple no jvp at 30 degrees cardiac normal rate, regular rhythm no murmurs, rubs, or gallops lungs no chest wall deformities or tenderness respiration is unlabored with no accessory muscle use no adventitious breath sounds abdomen soft, ntnd +bs extremities cool, no edema skin no significant skin lesions or rashes pulses distal pulses palpable and symmetric discharge physical ================== vs  temp 979 po bp 106/65 r lying hr 90 rr 16 o2 sat 94% o2 delivery ra general well developed, well nourished young man heent nc/at no icterus or injection mmm neck supple jvp not visible at 30 degrees cardiac regular rate, regular rhythm no murmurs lungs ctab abdomen soft, ntnd extremities warm, no edema skin no rashes or lesions +tattoo neuro aaox3 perrl, eomi, cn intact strength and symmetric throughout . brief hospital course is mr is a male with no medical history who initially presented after witnessed vf cardiac arrest, down for 15 minutes in the field, transferred to from s/p cooling protocol tte with no overt abnormality but subsequent cardiac mri showed hypertrophic cardiomyopathy he underwent icd placement prior to discharge on  device brand/name af mri vr dv model number lead model sprint mri, mr yes, lead position rv, lead length 62 cm, manufacturer , serial number , implant date acute issues ============ #sudden cardiac arrest #hypertrophic cardiomyopathy the patient initially presented after sudden cardiac arrest (mono- and polymorphic vt, vf, pea and nsvt on ems strips) lasting approximately 15 minutes s/p defibrillation ×2, 4 mg epinephrine, and 10mg naloxone (no effect) intubated in the field prior to arrival was initiated on targeted temperature management on arrival at on  on initiation of rewarming, patient regained all neurocognitive function, without deficit and was subsequently extubated initial tte showed reduced ef 26%, however on repeat, 60% on repeat echo on  he underwent cardiac mri showing asymmetric septal hypertrophy with maximal thickness of the basal anterior septum measuring 16 cm, consistent with hypertrophic obstructive cardiomyopathy he subsequently underwent icd placement prior to discharge on  patient was discharged on cephalexin 500mg qid prophylaxis s/p icd placement for 3 days course () #community acquired pneumonia vs aspiration pneumonitis #leukocytosis the patient initially presented with leukocytosis of 260 suspected aspiration pneumonitis in the setting of cardiac arrest and intubation was initially started on cefepime, however was descalated to ceftriaxone and completed a course of ceftriaxone cxr on demonstrated possible right lobe pneumonia patient was asymptomatic, afebrile, and without white count he was discharged without further treatment given recent completion of cap treatment cxr findings were thought to be radiographic delay patient was given strict instructions in case he began to develop infectious signs/symptoms #transaminitis #acute liver injury the patient initially presented with transaminitis, alt 359, ast 292, likely in the setting of cardiac arrest and poor forward flow liver enzymes down trended to normal at time of discharge likely due to hypoperfusion during cardiac arrest, now resolved transitional issues =================== [] pneumonia/cxr recommend repeat cxr and evaluation for pneumonia as last cxr prior to discharge showed possible consolidation, recommend treating for hap if patient develops symptoms [] lfts recommend repeating lfts in weeks to ensure that they remain normalized [] heart rate recommend titrating diltiazam as needed to achieve adequate heart rates [] hocm screening recommend cardiac mri for family members and siblings (hocm was not evident on tte) [] icd followup device clinic will be scheduled for patient within one week [] cephalexin 500mg qid for prevention of infection after icd placement for 3 days () #code full (presumed) #cnotact (mother), \\nLabel: Home\\n\\nClassify the following text into one of the categories: Home, Extended Care, Expired. Answer in 1 single word.\\n\\nText: allergies is tape . chief complaint is left fifth toe ulcer . major surgical or invasive procedure is none . physical exam is vitals 969 84 146/80 18 100ra gen a&o, nad heent no scleral icterus, mucus membranes moist, no carotid bruit cv rrr, no m/g/r pulm clear to auscultation b/l, no w/r/r abd soft, nondistended, nontender, no rebound or guarding, normoactive bowel sounds, no palpable masses, llq incision c/d/i no tenderness over allograft ext no edema, warm and well perfused pulses bilateral palp fem, b/l dop pop, dop r>l . brief hospital course is mr was admitted on  his toe was examined the next morning and found to be healing well by dr  he was dialyzed on and seen by the podiatry team, who has been following him as an outpatient he was discharged home in stable condition\\nLabel: '"
            ],
            "application/vnd.google.colaboratory.intrinsic+json": {
              "type": "string"
            }
          },
          "metadata": {},
          "execution_count": 3
        }
      ]
    },
    {
      "cell_type": "markdown",
      "source": [
        "# GPT 3.5 2-shot"
      ],
      "metadata": {
        "id": "xJVfSYlGaClg"
      }
    },
    {
      "cell_type": "code",
      "source": [
        "import requests\n",
        "import time\n",
        "\n",
        "# Your GPT API key\n",
        "api_key = ''\n",
        "\n",
        "# The API endpoint URL\n",
        "api_url = 'https://api.openai.com/v1/chat/completions'\n",
        "\n",
        "# The headers including the API key\n",
        "headers = {\n",
        "    'Content-Type': 'application/json',\n",
        "    'Authorization': f'Bearer {api_key}'\n",
        "}\n",
        "\n",
        "def query_gpt3(prompt):\n",
        "    data = {\n",
        "        \"model\": \"gpt-3.5-turbo-1106\",  # Specify the model\n",
        "        \"messages\": [\n",
        "            {\"role\": \"system\", \"content\": \"You are a helpful assistant.\"},\n",
        "            {\"role\": \"user\", \"content\": prompt}\n",
        "        ]\n",
        "    }\n",
        "\n",
        "    retries = 10  # Maximum number of retries for unknown errors\n",
        "    attempt = 0\n",
        "\n",
        "    while attempt < retries:\n",
        "        response = requests.post(api_url, headers=headers, json=data)\n",
        "        if response.status_code == 200:\n",
        "            # Extract the content from the last message from the assistant\n",
        "            messages = response.json().get('choices', [{}])[0].get('message', {}).get('content', '')\n",
        "            return messages.strip()\n",
        "        elif response.status_code == 429:  # Rate limit exceeded\n",
        "            print(\"Rate limit reached, waiting to retry...\")\n",
        "            time.sleep(30)  # Wait 30 seconds before retrying\n",
        "        else:\n",
        "            print(f\"Error in API call: {response.status_code}\")\n",
        "            print(response.text)\n",
        "            time.sleep(5)  # Wait 5 seconds before retrying for unknown errors\n",
        "            attempt += 1\n",
        "\n",
        "    print(\"Max retries reached, request failed.\")\n",
        "    return None"
      ],
      "metadata": {
        "id": "v4-iwZg7e-er"
      },
      "execution_count": null,
      "outputs": []
    },
    {
      "cell_type": "code",
      "source": [
        "# Test the function with an example prompt\n",
        "example_prompt = individual_prompts[148]  # Replace with an actual prompt\n",
        "gpt_output_test = query_gpt3(example_prompt)\n",
        "\n",
        "print(gpt_output_test)"
      ],
      "metadata": {
        "colab": {
          "base_uri": "https://localhost:8080/"
        },
        "id": "ddy42d8xZwpw",
        "outputId": "93f3af7f-d007-403b-af0d-9522cc4717c2"
      },
      "execution_count": null,
      "outputs": [
        {
          "output_type": "stream",
          "name": "stdout",
          "text": [
            "Extended Care\n"
          ]
        }
      ]
    },
    {
      "cell_type": "code",
      "source": [
        "test_labels_df['label'][148]"
      ],
      "metadata": {
        "colab": {
          "base_uri": "https://localhost:8080/",
          "height": 36
        },
        "id": "7gbG8DyJgCQs",
        "outputId": "88120546-7824-49c8-f272-1b19e736a6c7"
      },
      "execution_count": null,
      "outputs": [
        {
          "output_type": "execute_result",
          "data": {
            "text/plain": [
              "'Extended Care'"
            ],
            "application/vnd.google.colaboratory.intrinsic+json": {
              "type": "string"
            }
          },
          "metadata": {},
          "execution_count": 6
        }
      ]
    },
    {
      "cell_type": "code",
      "source": [
        "import requests\n",
        "from sklearn.metrics import confusion_matrix, accuracy_score, f1_score, recall_score, precision_score\n",
        "import pandas as pd\n",
        "from tqdm import tqdm\n",
        "\n",
        "# Predict labels using GPT for each prompt and compare with actual labels\n",
        "predicted_labels = []\n",
        "for prompt in tqdm(individual_prompts, desc=\"Processing prompts\"):\n",
        "    gpt_output = query_gpt3(prompt)\n",
        "    predicted_labels.append(gpt_output)"
      ],
      "metadata": {
        "colab": {
          "base_uri": "https://localhost:8080/"
        },
        "id": "TKcFtpdyipH3",
        "outputId": "37032fb0-781b-4556-fa7b-14743f2f1577"
      },
      "execution_count": null,
      "outputs": [
        {
          "output_type": "stream",
          "name": "stderr",
          "text": [
            "Processing prompts:   8%|▊         | 90/1200 [01:00<11:58,  1.54it/s]"
          ]
        },
        {
          "output_type": "stream",
          "name": "stdout",
          "text": [
            "Rate limit reached, waiting to retry...\n"
          ]
        },
        {
          "output_type": "stream",
          "name": "stderr",
          "text": [
            "Processing prompts:  12%|█▏        | 138/1200 [02:04<09:49,  1.80it/s]"
          ]
        },
        {
          "output_type": "stream",
          "name": "stdout",
          "text": [
            "Rate limit reached, waiting to retry...\n"
          ]
        },
        {
          "output_type": "stream",
          "name": "stderr",
          "text": [
            "Processing prompts:  17%|█▋        | 199/1200 [03:16<10:52,  1.53it/s]"
          ]
        },
        {
          "output_type": "stream",
          "name": "stdout",
          "text": [
            "Rate limit reached, waiting to retry...\n"
          ]
        },
        {
          "output_type": "stream",
          "name": "stderr",
          "text": [
            "Processing prompts:  21%|██        | 252/1200 [04:23<11:58,  1.32it/s]"
          ]
        },
        {
          "output_type": "stream",
          "name": "stdout",
          "text": [
            "Rate limit reached, waiting to retry...\n"
          ]
        },
        {
          "output_type": "stream",
          "name": "stderr",
          "text": [
            "Processing prompts:  25%|██▌       | 305/1200 [05:30<10:08,  1.47it/s]"
          ]
        },
        {
          "output_type": "stream",
          "name": "stdout",
          "text": [
            "Rate limit reached, waiting to retry...\n"
          ]
        },
        {
          "output_type": "stream",
          "name": "stderr",
          "text": [
            "Processing prompts:  30%|██▉       | 357/1200 [06:33<09:51,  1.42it/s]"
          ]
        },
        {
          "output_type": "stream",
          "name": "stdout",
          "text": [
            "Rate limit reached, waiting to retry...\n"
          ]
        },
        {
          "output_type": "stream",
          "name": "stderr",
          "text": [
            "Processing prompts:  34%|███▍      | 406/1200 [07:35<06:33,  2.02it/s]"
          ]
        },
        {
          "output_type": "stream",
          "name": "stdout",
          "text": [
            "Rate limit reached, waiting to retry...\n"
          ]
        },
        {
          "output_type": "stream",
          "name": "stderr",
          "text": [
            "Processing prompts:  38%|███▊      | 450/1200 [08:32<07:04,  1.76it/s]"
          ]
        },
        {
          "output_type": "stream",
          "name": "stdout",
          "text": [
            "Rate limit reached, waiting to retry...\n"
          ]
        },
        {
          "output_type": "stream",
          "name": "stderr",
          "text": [
            "Processing prompts:  41%|████      | 487/1200 [09:26<06:53,  1.72it/s]"
          ]
        },
        {
          "output_type": "stream",
          "name": "stdout",
          "text": [
            "Rate limit reached, waiting to retry...\n"
          ]
        },
        {
          "output_type": "stream",
          "name": "stderr",
          "text": [
            "Processing prompts:  46%|████▌     | 548/1200 [10:35<07:59,  1.36it/s]"
          ]
        },
        {
          "output_type": "stream",
          "name": "stdout",
          "text": [
            "Rate limit reached, waiting to retry...\n"
          ]
        },
        {
          "output_type": "stream",
          "name": "stderr",
          "text": [
            "Processing prompts:  49%|████▉     | 585/1200 [11:28<05:35,  1.83it/s]"
          ]
        },
        {
          "output_type": "stream",
          "name": "stdout",
          "text": [
            "Rate limit reached, waiting to retry...\n"
          ]
        },
        {
          "output_type": "stream",
          "name": "stderr",
          "text": [
            "Processing prompts:  52%|█████▏    | 622/1200 [12:24<06:33,  1.47it/s]"
          ]
        },
        {
          "output_type": "stream",
          "name": "stdout",
          "text": [
            "Rate limit reached, waiting to retry...\n"
          ]
        },
        {
          "output_type": "stream",
          "name": "stderr",
          "text": [
            "Processing prompts:  55%|█████▍    | 659/1200 [13:17<05:07,  1.76it/s]"
          ]
        },
        {
          "output_type": "stream",
          "name": "stdout",
          "text": [
            "Rate limit reached, waiting to retry...\n"
          ]
        },
        {
          "output_type": "stream",
          "name": "stderr",
          "text": [
            "Processing prompts:  60%|█████▉    | 716/1200 [14:29<04:03,  1.99it/s]"
          ]
        },
        {
          "output_type": "stream",
          "name": "stdout",
          "text": [
            "Rate limit reached, waiting to retry...\n"
          ]
        },
        {
          "output_type": "stream",
          "name": "stderr",
          "text": [
            "Processing prompts:  62%|██████▏   | 748/1200 [15:17<03:32,  2.13it/s]"
          ]
        },
        {
          "output_type": "stream",
          "name": "stdout",
          "text": [
            "Rate limit reached, waiting to retry...\n"
          ]
        },
        {
          "output_type": "stream",
          "name": "stderr",
          "text": [
            "Processing prompts:  67%|██████▋   | 807/1200 [16:27<04:01,  1.63it/s]"
          ]
        },
        {
          "output_type": "stream",
          "name": "stdout",
          "text": [
            "Rate limit reached, waiting to retry...\n"
          ]
        },
        {
          "output_type": "stream",
          "name": "stderr",
          "text": [
            "Processing prompts:  70%|███████   | 844/1200 [17:19<02:56,  2.02it/s]"
          ]
        },
        {
          "output_type": "stream",
          "name": "stdout",
          "text": [
            "Rate limit reached, waiting to retry...\n"
          ]
        },
        {
          "output_type": "stream",
          "name": "stderr",
          "text": [
            "Processing prompts:  74%|███████▎  | 882/1200 [18:14<03:11,  1.66it/s]"
          ]
        },
        {
          "output_type": "stream",
          "name": "stdout",
          "text": [
            "Rate limit reached, waiting to retry...\n"
          ]
        },
        {
          "output_type": "stream",
          "name": "stderr",
          "text": [
            "Processing prompts:  77%|███████▋  | 919/1200 [19:06<02:37,  1.78it/s]"
          ]
        },
        {
          "output_type": "stream",
          "name": "stdout",
          "text": [
            "Rate limit reached, waiting to retry...\n"
          ]
        },
        {
          "output_type": "stream",
          "name": "stderr",
          "text": [
            "Processing prompts:  84%|████████▍ | 1005/1200 [21:01<01:52,  1.73it/s]"
          ]
        },
        {
          "output_type": "stream",
          "name": "stdout",
          "text": [
            "Rate limit reached, waiting to retry...\n"
          ]
        },
        {
          "output_type": "stream",
          "name": "stderr",
          "text": [
            "Processing prompts:  91%|█████████ | 1094/1200 [23:18<01:00,  1.74it/s]"
          ]
        },
        {
          "output_type": "stream",
          "name": "stdout",
          "text": [
            "Rate limit reached, waiting to retry...\n"
          ]
        },
        {
          "output_type": "stream",
          "name": "stderr",
          "text": [
            "Processing prompts:  94%|█████████▍| 1132/1200 [24:08<00:38,  1.77it/s]"
          ]
        },
        {
          "output_type": "stream",
          "name": "stdout",
          "text": [
            "Rate limit reached, waiting to retry...\n"
          ]
        },
        {
          "output_type": "stream",
          "name": "stderr",
          "text": [
            "Processing prompts:  98%|█████████▊| 1175/1200 [25:07<00:12,  2.00it/s]"
          ]
        },
        {
          "output_type": "stream",
          "name": "stdout",
          "text": [
            "Rate limit reached, waiting to retry...\n"
          ]
        },
        {
          "output_type": "stream",
          "name": "stderr",
          "text": [
            "Processing prompts: 100%|██████████| 1200/1200 [25:51<00:00,  1.29s/it]\n"
          ]
        }
      ]
    },
    {
      "cell_type": "code",
      "source": [
        "set(predicted_labels)"
      ],
      "metadata": {
        "colab": {
          "base_uri": "https://localhost:8080/"
        },
        "id": "z6NZVKIKa4Lh",
        "outputId": "19e15380-c649-4166-fce9-3b7317a34e79"
      },
      "execution_count": null,
      "outputs": [
        {
          "output_type": "execute_result",
          "data": {
            "text/plain": [
              "{'Expired', 'Extended Care', 'Home'}"
            ]
          },
          "metadata": {},
          "execution_count": 8
        }
      ]
    },
    {
      "cell_type": "code",
      "source": [
        "import pandas as pd\n",
        "import matplotlib.pyplot as plt\n",
        "import seaborn as sns\n",
        "from sklearn.metrics import confusion_matrix\n",
        "from sklearn.preprocessing import LabelEncoder\n",
        "import re\n",
        "\n",
        "# Function to process predictions\n",
        "def process_predictions(actual_labels, predicted_labels):\n",
        "    processed_predictions = []\n",
        "    for actual, predicted in zip(actual_labels, predicted_labels):\n",
        "      if re.search(r'\\bhome\\b', predicted, re.IGNORECASE):\n",
        "        processed_predictions.append('Home')\n",
        "      elif re.search(r'\\bextended care\\b', predicted, re.IGNORECASE):\n",
        "        processed_predictions.append('Extended Care')\n",
        "      elif re.search(r'\\bexpired\\b', predicted, re.IGNORECASE) or re.search(r'\\bexpried\\b', predicted, re.IGNORECASE):\n",
        "        processed_predictions.append('Expired')\n",
        "      else:\n",
        "        # Append a default label or a label indicating incorrect prediction\n",
        "        processed_predictions.append('Insufficient')\n",
        "    return processed_predictions"
      ],
      "metadata": {
        "id": "l-JMjaB2gDRc"
      },
      "execution_count": null,
      "outputs": []
    },
    {
      "cell_type": "code",
      "source": [
        "# Process the predictions\n",
        "processed_predictions_gpt3 = process_predictions(list(test_labels_df['label']), predicted_labels)"
      ],
      "metadata": {
        "id": "zE7KysWuaqEc"
      },
      "execution_count": null,
      "outputs": []
    },
    {
      "cell_type": "code",
      "source": [
        "# Encode labels for metric calculations\n",
        "le_gpt3 = LabelEncoder()\n",
        "le_gpt3.fit(processed_predictions_gpt3)\n",
        "\n",
        "encoded_actual_labels_gpt3 = le_gpt3.transform(list(test_labels_df['label']))\n",
        "encoded_predicted_labels_gpt3 = le_gpt3.transform(processed_predictions_gpt3)"
      ],
      "metadata": {
        "id": "dihLqXY4gOdn"
      },
      "execution_count": null,
      "outputs": []
    },
    {
      "cell_type": "code",
      "source": [
        "# Function to calculate metrics\n",
        "def calculate_metrics(actual_labels, predicted_labels):\n",
        "    cm = confusion_matrix(actual_labels, predicted_labels)\n",
        "    accuracy = accuracy_score(actual_labels, predicted_labels)\n",
        "    f1 = f1_score(actual_labels, predicted_labels, average='weighted')\n",
        "    recall = recall_score(actual_labels, predicted_labels, average='weighted')\n",
        "    precision = precision_score(actual_labels, predicted_labels, average='weighted')\n",
        "\n",
        "    return cm, accuracy, f1, recall, precision"
      ],
      "metadata": {
        "id": "asnK6bnbZtEJ"
      },
      "execution_count": null,
      "outputs": []
    },
    {
      "cell_type": "code",
      "source": [
        "# Calculate metrics\n",
        "cm_gpt3 = confusion_matrix(encoded_actual_labels_gpt3, encoded_predicted_labels_gpt3)\n",
        "accuracy_gpt3 = accuracy_score(encoded_actual_labels_gpt3, encoded_predicted_labels_gpt3)\n",
        "f1_gpt3 = f1_score(encoded_actual_labels_gpt3, encoded_predicted_labels_gpt3, average='weighted')\n",
        "recall_gpt3 = recall_score(encoded_actual_labels_gpt3, encoded_predicted_labels_gpt3, average='weighted')\n",
        "precision_gpt3 = precision_score(encoded_actual_labels_gpt3, encoded_predicted_labels_gpt3, average='weighted')\n",
        "\n",
        "# Print metrics and confusion matrix\n",
        "print(\"GPT 3 Confusion Matrix:\\n\", cm_gpt3)\n",
        "print(\"GPT 3 Accuracy:\", accuracy_gpt3)\n",
        "print(\"GPT 3 F1 Score:\", f1_gpt3)\n",
        "print(\"GPT 3 Recall:\", recall_gpt3)\n",
        "print(\"GPT 3 Precision:\", precision_gpt3)"
      ],
      "metadata": {
        "colab": {
          "base_uri": "https://localhost:8080/"
        },
        "id": "FakUA-jpoc-q",
        "outputId": "26578ca2-04b2-4e8a-c3d2-1cc468296852"
      },
      "execution_count": null,
      "outputs": [
        {
          "output_type": "stream",
          "name": "stdout",
          "text": [
            "GPT 3 Confusion Matrix:\n",
            " [[264  52   1]\n",
            " [ 38 474  81]\n",
            " [ 11 191  88]]\n",
            "GPT 3 Accuracy: 0.6883333333333334\n",
            "GPT 3 F1 Score: 0.6714712805356682\n",
            "GPT 3 Recall: 0.6883333333333334\n",
            "GPT 3 Precision: 0.6745971279818891\n"
          ]
        }
      ]
    },
    {
      "cell_type": "code",
      "source": [
        "# Function to plot confusion matrix\n",
        "def plot_confusion_matrix_gpt3(cm, labels, title='GPT 3 2-Shot Confusion Matrix', cmap=plt.cm.Blues):\n",
        "    plt.figure(figsize=(8, 6))\n",
        "    sns.heatmap(cm, annot=True, fmt='d', cmap=cmap, xticklabels=labels, yticklabels=labels)\n",
        "    plt.title(title)\n",
        "    plt.ylabel('True Label')\n",
        "    plt.xlabel('Predicted Label')\n",
        "    plt.show()\n",
        "\n",
        "# Extracting the unique labels\n",
        "unique_labels_gpt3 = le_gpt3.classes_\n",
        "\n",
        "# Plot the confusion matrix\n",
        "plot_confusion_matrix_gpt3(cm_gpt3, unique_labels_gpt3)"
      ],
      "metadata": {
        "colab": {
          "base_uri": "https://localhost:8080/",
          "height": 564
        },
        "id": "t-1QbIlXoZcA",
        "outputId": "cb1f46b6-b0cc-4a44-af7b-15e4d4d37407"
      },
      "execution_count": null,
      "outputs": [
        {
          "output_type": "display_data",
          "data": {
            "text/plain": [
              "<Figure size 800x600 with 2 Axes>"
            ],
            "image/png": "[encoded data removed]"
          },
          "metadata": {}
        }
      ]
    },
    {
      "cell_type": "markdown",
      "source": [
        "# Prepare 3-shot prompt dataset"
      ],
      "metadata": {
        "id": "-rid--Js27Pc"
      }
    },
    {
      "cell_type": "code",
      "source": [
        "def create_individual_prompts_3_shot(train_texts, train_labels, test_texts, task_description=\"Classify the following text into one of the categories: Home, Extended Care, Expired. Answer in 1 single word.\"):\n",
        "    prompts = []\n",
        "    unique_labels = train_labels['label'].unique()\n",
        "\n",
        "    for i in range(len(test_texts)):\n",
        "        selected_samples = []\n",
        "        for label in unique_labels[:3]:  # Select four samples from different classes\n",
        "            sample = train_texts[train_labels['label'] == label].sample(1).iloc[0]\n",
        "            selected_samples.append((sample['text'], label))\n",
        "\n",
        "        # Creating individual prompt for each test text\n",
        "        prompt = ''\n",
        "        for text, label in selected_samples:\n",
        "            prompt += f\"Text: {text}\\nLabel: {label}\\n\\n\"\n",
        "        prompt += task_description + \"\\n\\n\"\n",
        "        prompt += f\"Text: {test_texts.iloc[i]['text']}\\nLabel: \"\n",
        "        prompts.append(prompt)\n",
        "\n",
        "    return prompts\n",
        "\n",
        "# Generating prompts for each test text\n",
        "individual_prompt_3_shot = create_individual_prompts_3_shot(train_texts_df, train_labels_df, test_texts_df)\n"
      ],
      "metadata": {
        "id": "IMFyV0OO28lN"
      },
      "execution_count": null,
      "outputs": []
    },
    {
      "cell_type": "code",
      "source": [
        "individual_prompt_3_shot[1]"
      ],
      "metadata": {
        "colab": {
          "base_uri": "https://localhost:8080/",
          "height": 1000
        },
        "id": "H4saAibn3FmE",
        "outputId": "bee53f02-3459-4ec7-94f8-e3d3390aa140"
      },
      "execution_count": null,
      "outputs": [
        {
          "output_type": "execute_result",
          "data": {
            "text/plain": [
              "\"Text: allergies is amoxicillin . chief complaint is chest pain, suicidal ideation . major surgical or invasive procedure is none . physical exam is none . brief hospital course is none\\nLabel: Extended Care\\n\\nText: allergies is no known allergies / adverse drug reactions . chief complaint is abdominal pain . major surgical or invasive procedure is none . physical exam is none . brief hospital course is h/o mgus and htn presents w/ acute onset left upper quadrant pain ct with ?sbo ?colitis 1 left abdominal pain -ct abdomen with differential including sbo vs colitis but overall not convincing differentials she does have history of previous abdominal surgeries, as risk factor to sbo, and also diverticulosis, as risk factor to diverticulitis she was started on po antibiotics, iv fluids, and bowel rest with improvement and then complete resolution of her pain her diet was advanced, which she tolerated well she did have a bowel movement during admission and should continue with outpatient bowel regimen she will continue po metronidazole & ciprofloxacin for total 7 day course through  2 constipation -continue polyethylene glycol 3 depression -she is not currently on any antidepressants, but patient's pcp notes that patient has significant depression and has been considering moving to an assisted living vs long term care facility when i discussed this with patient she became upset and defensive that she has a good family and apartment; she acknowledged that she and her pcp are discussing placement for other reasons and at this time wants to go home with continued discussion regarding this w/ her pcp  chronic medical problems 1 htn continue hctz caution using thiazide in year old lady at risk of electrolyte abnormalities 2 insomnia continue melatonin and zolpidem >30 minutes spent on discharge planning\\nLabel: Home\\n\\nText: allergies is / . chief complaint is chest pain . major surgical or invasive procedure is none . physical exam is none . brief hospital course is ms is an year old lady with h/o cad, htn, hld, and copd who initially presented with chest pain approximately 1 month prior and was found to have left main and multi-vessel disease she was transferred to for cabg evaluation ultimately, she was deemed to be not a surgerical candidate interventional cardiology determined a pci would be very high risk given her disease burden her family did not want any aggressive measures to be taken and eventually, patient was made cmo she was transferred to the ccu for comfort measures and was treated with a low-dose morphine drip with boluses as needed for pain and respiratory distress patient passed peacefully at 850pm on with family at the bedside family offered autopsy and declined\\nLabel: Expired\\n\\nClassify the following text into one of the categories: Home, Extended Care, Expired. Answer in 1 single word.\\n\\nText: allergies is no known allergies / adverse drug reactions . chief complaint is shortness of breath . major surgical or invasive procedure is n/a . physical exam is ==================== . brief hospital course is ms is an with a pmhx of relapsed ph+ all with poor cytogenetic features (s/p cycle 3 of consolidation therapy, progressed on ponatinib, on bosutinib/omacetaxine), who presented from clinic with new dyspnea and hypoxia, found to have blasts on peripheral smear # ph+ all with poor cytogenetics for ph+ all, started on nilotinib on admission (planned before hospitalized) for refractory disease she was continued on dexamethasone 2mg daily wbc and blasts trended up with peak at 46% blasts became neutropenic with anc 0 as side effect from nilotinib nilotinib stopped and given 1g cyclophosphamide with prednisone taper with a poor prognosis, discussion for goals of care was had, and patient was made dnr/dni she was started on course of vincristine/doxorubicin on , but was found to have increasing numbers of blasts on cbcdiff as prednisone was tapered blast count continued to rise, and at the direction of dr treatment with axitinib through an investigational new drug request with was arranged the patient received her first dose on after providing informed consent blast counts continued to increase despite axitinib therapy as a result, the decision was made to discontinue axitinib on , and to discontinue antibiotic therapy on  she was made comfort measures only, and started on morphine drip on  # shortness of breath/hypoxia pt presented with new-onset hypoxia and dyspnea initial ddx included new chf (bnp 1378) vs med effect (rare cases of pulmonary edema caused by bosutinib) vs less likely infection (ie viral pna, pcp, fungal) vs pe cta negative for pe, but showed evidence of septal thickening and ground glass opacities consistent with pulmonary edema tte showed ef >55% with lvh, but stable from previous hypoxia and dyspnea improved with diuresis following diuresis, patient sat'ed well on room air, with lasix 10mg iv prn after transfusions # febrile neutropenia (first episode)/gram positive bacteremia (first episode) developed tm 1004 on , was started on empiric cefipime 2g q8h; cx positive for gram positive cocci in clusters and chains on coverage expanded to include vancomycin and id consulted tte and rue dvt scan obtained per id recs, stable from prior studies patient was maintained on cefepime monotherapy, with ampicillin iv locks in an attempt to save her port site she was afebrile until with negative repeat cultures on 4 subsequent days however, on , she had a fever of while on vancomycin, cefepime, and voriconazole, blood cultures were drawn, and a chest ct was obtained (demonstrated worsening pulmonary infiltration, concerning for invasive fungal infection vs nocardia) infectious disease was consulted, and recommended continuing vanc/cefepime, and switching antifungal coverage to ambisone (day 1  # febrile neutropenia (second episode)/vre bacteremia blood culture from was positive for vre, antibiotic coverage was switched to include daptomycin/cefepime/ambisone per infectious disease recommendations as pathogen was ampicillin resistant as well, iv locks were switched to daptomycin locks as well subsequent blood cultures were negative, and patient remained afebrile on new antibiotic therapy # positive aspergillius sputum culture one induced sputum from grew aspergillus has been on long course of steroids, and concern that this is real result repeat induced sputum negative for aspergillus x2 started on voriconazole and id consulted had ct chest that showed interval improvement and was not consistent with aspergillus; b-glucan and galactomannan negative because of her significant risk stratification, she was maintained on voriconazole ct on with worsening pulmonary nodules, concerning for worsening fungal infection vs nocardia serum crytpococcal ag negative, voriconazole broadened to ambisone for concern of resistant aspergillus # skin/soft tissue infection a skin tear developed early on as medical tape was removed from her r anterior chest/shoulder area erythema resolved while she remained on vancomycin/cefepime, and later tapered to cefepime monotherapy for treatment of her febrile neutropenia however, on , the wound was found to be more erythematous than prior examinations, and antibiotic regimen was liberalized to include both vancomycin and cefepime wound care consult was placed, with recommendation to apply bactroban to the wound, and cover wound with gauze wound remained stable, and gradually improved # goals of care pt decided that she does not want to be full code anymore she wanted to continue treatment for her all, but does not want aggressive life saving measures she also did not want to be transferred to the icu should her condition worsen as her clinical status worsened, a family meeting with the patient and her son was conducted on , and it was determined that chemotherapy would be discontinued, and antibiotics would be stopped on  she passed away peacefully on  # altered mental status patient was noted to have altered mental status, poor concentration, possible hypoxic component overnight on am of , hypoxia resolved throughout the day, mentation improved but patient still anxious and with difficulty concentrating her mental status and confusion improved over the following days # transaminitis noted to have increasing lfts, unclear etiology, but possibly from congestive hepatopathy prior us unremarkable in  lfts downtrended throughout hospitalization # fatigue/steroid myopathy pt has hx of myalgias steroid myopathy thought she does not endorse myalgias at present ck wnl, tfts wnl no complaints while hospitalized even when on high dose steroids # anemia/thrombocytopena chronic, stable; likely malignancy and med effect required occasional platelet and rbc transfusions # htn normotensive cont amlodipine # h/o hsv change valacycovir to acyclovir 400mg q8h per id/pharmacy while inpatient ====================\\nLabel: \""
            ],
            "application/vnd.google.colaboratory.intrinsic+json": {
              "type": "string"
            }
          },
          "metadata": {},
          "execution_count": 45
        }
      ]
    },
    {
      "cell_type": "markdown",
      "source": [
        "# GPT 3.5 3-shot"
      ],
      "metadata": {
        "id": "_LaXgXUyaPzo"
      }
    },
    {
      "cell_type": "code",
      "source": [
        "# Test the function with an example prompt\n",
        "example_prompt = individual_prompt_3_shot[148]  # Replace with an actual prompt\n",
        "gpt_output_test = query_gpt3(example_prompt)\n",
        "\n",
        "print(gpt_output_test)"
      ],
      "metadata": {
        "colab": {
          "base_uri": "https://localhost:8080/"
        },
        "id": "93NDBcbndCoP",
        "outputId": "51010564-9f8d-4f93-ebbf-7a9120ff8036"
      },
      "execution_count": null,
      "outputs": [
        {
          "output_type": "stream",
          "name": "stdout",
          "text": [
            "Extended Care\n"
          ]
        }
      ]
    },
    {
      "cell_type": "code",
      "source": [
        "# Predict labels using GPT for each prompt and compare with actual labels\n",
        "predicted_labels_gpt3_3_shot = []\n",
        "for prompt in tqdm(individual_prompt_3_shot, desc=\"Processing prompts\"):\n",
        "    gpt_output = query_gpt3(prompt)\n",
        "    predicted_labels_gpt3_3_shot.append(gpt_output)"
      ],
      "metadata": {
        "colab": {
          "base_uri": "https://localhost:8080/"
        },
        "id": "z3EEET15g_m2",
        "outputId": "afa2038e-de90-4873-a25e-86a78bb64cd8"
      },
      "execution_count": null,
      "outputs": [
        {
          "output_type": "stream",
          "name": "stderr",
          "text": [
            "Processing prompts:   4%|▎         | 42/1200 [00:21<08:47,  2.19it/s]"
          ]
        },
        {
          "output_type": "stream",
          "name": "stdout",
          "text": [
            "Rate limit reached, waiting to retry...\n"
          ]
        },
        {
          "output_type": "stream",
          "name": "stderr",
          "text": [
            "Processing prompts:   5%|▌         | 65/1200 [01:02<08:49,  2.14it/s]"
          ]
        },
        {
          "output_type": "stream",
          "name": "stdout",
          "text": [
            "Rate limit reached, waiting to retry...\n"
          ]
        },
        {
          "output_type": "stream",
          "name": "stderr",
          "text": [
            "Processing prompts:   7%|▋         | 89/1200 [01:45<09:54,  1.87it/s]"
          ]
        },
        {
          "output_type": "stream",
          "name": "stdout",
          "text": [
            "Rate limit reached, waiting to retry...\n"
          ]
        },
        {
          "output_type": "stream",
          "name": "stderr",
          "text": [
            "Processing prompts:   9%|▉         | 113/1200 [02:30<11:25,  1.59it/s]"
          ]
        },
        {
          "output_type": "stream",
          "name": "stdout",
          "text": [
            "Rate limit reached, waiting to retry...\n"
          ]
        },
        {
          "output_type": "stream",
          "name": "stderr",
          "text": [
            "Processing prompts:  11%|█▏        | 136/1200 [03:11<07:37,  2.32it/s]"
          ]
        },
        {
          "output_type": "stream",
          "name": "stdout",
          "text": [
            "Rate limit reached, waiting to retry...\n"
          ]
        },
        {
          "output_type": "stream",
          "name": "stderr",
          "text": [
            "Processing prompts:  13%|█▎        | 157/1200 [03:51<09:35,  1.81it/s]"
          ]
        },
        {
          "output_type": "stream",
          "name": "stdout",
          "text": [
            "Rate limit reached, waiting to retry...\n"
          ]
        },
        {
          "output_type": "stream",
          "name": "stderr",
          "text": [
            "Processing prompts:  15%|█▌        | 182/1200 [04:33<07:03,  2.41it/s]"
          ]
        },
        {
          "output_type": "stream",
          "name": "stdout",
          "text": [
            "Rate limit reached, waiting to retry...\n"
          ]
        },
        {
          "output_type": "stream",
          "name": "stderr",
          "text": [
            "Processing prompts:  17%|█▋        | 205/1200 [05:14<06:55,  2.40it/s]"
          ]
        },
        {
          "output_type": "stream",
          "name": "stdout",
          "text": [
            "Rate limit reached, waiting to retry...\n"
          ]
        },
        {
          "output_type": "stream",
          "name": "stderr",
          "text": [
            "Processing prompts:  19%|█▉        | 230/1200 [05:56<09:02,  1.79it/s]"
          ]
        },
        {
          "output_type": "stream",
          "name": "stdout",
          "text": [
            "Rate limit reached, waiting to retry...\n"
          ]
        },
        {
          "output_type": "stream",
          "name": "stderr",
          "text": [
            "Processing prompts:  21%|██        | 254/1200 [06:37<07:06,  2.22it/s]"
          ]
        },
        {
          "output_type": "stream",
          "name": "stdout",
          "text": [
            "Rate limit reached, waiting to retry...\n"
          ]
        },
        {
          "output_type": "stream",
          "name": "stderr",
          "text": [
            "Processing prompts:  23%|██▎       | 280/1200 [07:20<08:22,  1.83it/s]"
          ]
        },
        {
          "output_type": "stream",
          "name": "stdout",
          "text": [
            "Rate limit reached, waiting to retry...\n"
          ]
        },
        {
          "output_type": "stream",
          "name": "stderr",
          "text": [
            "Processing prompts:  25%|██▌       | 304/1200 [08:02<07:19,  2.04it/s]"
          ]
        },
        {
          "output_type": "stream",
          "name": "stdout",
          "text": [
            "Rate limit reached, waiting to retry...\n"
          ]
        },
        {
          "output_type": "stream",
          "name": "stderr",
          "text": [
            "Processing prompts:  27%|██▋       | 329/1200 [08:44<07:37,  1.91it/s]"
          ]
        },
        {
          "output_type": "stream",
          "name": "stdout",
          "text": [
            "Rate limit reached, waiting to retry...\n"
          ]
        },
        {
          "output_type": "stream",
          "name": "stderr",
          "text": [
            "Processing prompts:  29%|██▉       | 350/1200 [09:24<07:20,  1.93it/s]"
          ]
        },
        {
          "output_type": "stream",
          "name": "stdout",
          "text": [
            "Rate limit reached, waiting to retry...\n"
          ]
        },
        {
          "output_type": "stream",
          "name": "stderr",
          "text": [
            "Processing prompts:  31%|███▏      | 375/1200 [10:06<06:21,  2.16it/s]"
          ]
        },
        {
          "output_type": "stream",
          "name": "stdout",
          "text": [
            "Rate limit reached, waiting to retry...\n"
          ]
        },
        {
          "output_type": "stream",
          "name": "stderr",
          "text": [
            "Processing prompts:  33%|███▎      | 399/1200 [10:48<05:53,  2.26it/s]"
          ]
        },
        {
          "output_type": "stream",
          "name": "stdout",
          "text": [
            "Rate limit reached, waiting to retry...\n"
          ]
        },
        {
          "output_type": "stream",
          "name": "stderr",
          "text": [
            "Processing prompts:  37%|███▋      | 442/1200 [12:06<05:58,  2.11it/s]"
          ]
        },
        {
          "output_type": "stream",
          "name": "stdout",
          "text": [
            "Rate limit reached, waiting to retry...\n"
          ]
        },
        {
          "output_type": "stream",
          "name": "stderr",
          "text": [
            "Processing prompts:  38%|███▊      | 462/1200 [12:46<06:55,  1.78it/s]"
          ]
        },
        {
          "output_type": "stream",
          "name": "stdout",
          "text": [
            "Rate limit reached, waiting to retry...\n"
          ]
        },
        {
          "output_type": "stream",
          "name": "stderr",
          "text": [
            "Processing prompts:  40%|████      | 485/1200 [13:28<06:21,  1.87it/s]"
          ]
        },
        {
          "output_type": "stream",
          "name": "stdout",
          "text": [
            "Rate limit reached, waiting to retry...\n"
          ]
        },
        {
          "output_type": "stream",
          "name": "stderr",
          "text": [
            "Processing prompts:  42%|████▏     | 509/1200 [14:09<05:30,  2.09it/s]"
          ]
        },
        {
          "output_type": "stream",
          "name": "stdout",
          "text": [
            "Rate limit reached, waiting to retry...\n"
          ]
        },
        {
          "output_type": "stream",
          "name": "stderr",
          "text": [
            "Processing prompts:  45%|████▍     | 536/1200 [14:52<05:00,  2.21it/s]"
          ]
        },
        {
          "output_type": "stream",
          "name": "stdout",
          "text": [
            "Rate limit reached, waiting to retry...\n"
          ]
        },
        {
          "output_type": "stream",
          "name": "stderr",
          "text": [
            "Processing prompts:  46%|████▋     | 558/1200 [15:32<05:01,  2.13it/s]"
          ]
        },
        {
          "output_type": "stream",
          "name": "stdout",
          "text": [
            "Rate limit reached, waiting to retry...\n"
          ]
        },
        {
          "output_type": "stream",
          "name": "stderr",
          "text": [
            "Processing prompts:  48%|████▊     | 579/1200 [16:14<05:33,  1.86it/s]"
          ]
        },
        {
          "output_type": "stream",
          "name": "stdout",
          "text": [
            "Rate limit reached, waiting to retry...\n"
          ]
        },
        {
          "output_type": "stream",
          "name": "stderr",
          "text": [
            "Processing prompts:  50%|████▉     | 599/1200 [16:54<04:41,  2.13it/s]"
          ]
        },
        {
          "output_type": "stream",
          "name": "stdout",
          "text": [
            "Rate limit reached, waiting to retry...\n"
          ]
        },
        {
          "output_type": "stream",
          "name": "stderr",
          "text": [
            "Processing prompts:  52%|█████▏    | 621/1200 [17:36<05:04,  1.90it/s]"
          ]
        },
        {
          "output_type": "stream",
          "name": "stdout",
          "text": [
            "Rate limit reached, waiting to retry...\n"
          ]
        },
        {
          "output_type": "stream",
          "name": "stderr",
          "text": [
            "Processing prompts:  54%|█████▍    | 645/1200 [18:19<04:10,  2.21it/s]"
          ]
        },
        {
          "output_type": "stream",
          "name": "stdout",
          "text": [
            "Rate limit reached, waiting to retry...\n"
          ]
        },
        {
          "output_type": "stream",
          "name": "stderr",
          "text": [
            "Processing prompts:  56%|█████▌    | 666/1200 [19:00<04:09,  2.14it/s]"
          ]
        },
        {
          "output_type": "stream",
          "name": "stdout",
          "text": [
            "Rate limit reached, waiting to retry...\n"
          ]
        },
        {
          "output_type": "stream",
          "name": "stderr",
          "text": [
            "Processing prompts:  58%|█████▊    | 691/1200 [19:41<03:37,  2.34it/s]"
          ]
        },
        {
          "output_type": "stream",
          "name": "stdout",
          "text": [
            "Rate limit reached, waiting to retry...\n"
          ]
        },
        {
          "output_type": "stream",
          "name": "stderr",
          "text": [
            "Processing prompts:  60%|█████▉    | 717/1200 [20:25<04:03,  1.98it/s]"
          ]
        },
        {
          "output_type": "stream",
          "name": "stdout",
          "text": [
            "Rate limit reached, waiting to retry...\n"
          ]
        },
        {
          "output_type": "stream",
          "name": "stderr",
          "text": [
            "Processing prompts:  62%|██████▏   | 740/1200 [21:08<03:36,  2.12it/s]"
          ]
        },
        {
          "output_type": "stream",
          "name": "stdout",
          "text": [
            "Rate limit reached, waiting to retry...\n"
          ]
        },
        {
          "output_type": "stream",
          "name": "stderr",
          "text": [
            "Processing prompts:  64%|██████▎   | 762/1200 [21:49<03:36,  2.03it/s]"
          ]
        },
        {
          "output_type": "stream",
          "name": "stdout",
          "text": [
            "Rate limit reached, waiting to retry...\n"
          ]
        },
        {
          "output_type": "stream",
          "name": "stderr",
          "text": [
            "Processing prompts:  66%|██████▌   | 786/1200 [22:31<03:35,  1.92it/s]"
          ]
        },
        {
          "output_type": "stream",
          "name": "stdout",
          "text": [
            "Rate limit reached, waiting to retry...\n"
          ]
        },
        {
          "output_type": "stream",
          "name": "stderr",
          "text": [
            "Processing prompts:  68%|██████▊   | 811/1200 [23:13<03:12,  2.02it/s]"
          ]
        },
        {
          "output_type": "stream",
          "name": "stdout",
          "text": [
            "Rate limit reached, waiting to retry...\n"
          ]
        },
        {
          "output_type": "stream",
          "name": "stderr",
          "text": [
            "Processing prompts:  70%|██████▉   | 835/1200 [23:55<03:03,  1.99it/s]"
          ]
        },
        {
          "output_type": "stream",
          "name": "stdout",
          "text": [
            "Rate limit reached, waiting to retry...\n"
          ]
        },
        {
          "output_type": "stream",
          "name": "stderr",
          "text": [
            "Processing prompts:  71%|███████▏  | 855/1200 [24:35<02:34,  2.24it/s]"
          ]
        },
        {
          "output_type": "stream",
          "name": "stdout",
          "text": [
            "Rate limit reached, waiting to retry...\n"
          ]
        },
        {
          "output_type": "stream",
          "name": "stderr",
          "text": [
            "Processing prompts:  73%|███████▎  | 877/1200 [25:17<02:39,  2.02it/s]"
          ]
        },
        {
          "output_type": "stream",
          "name": "stdout",
          "text": [
            "Rate limit reached, waiting to retry...\n"
          ]
        },
        {
          "output_type": "stream",
          "name": "stderr",
          "text": [
            "Processing prompts:  75%|███████▍  | 899/1200 [25:58<02:22,  2.11it/s]"
          ]
        },
        {
          "output_type": "stream",
          "name": "stdout",
          "text": [
            "Rate limit reached, waiting to retry...\n"
          ]
        },
        {
          "output_type": "stream",
          "name": "stderr",
          "text": [
            "Processing prompts:  77%|███████▋  | 919/1200 [26:39<02:21,  1.99it/s]"
          ]
        },
        {
          "output_type": "stream",
          "name": "stdout",
          "text": [
            "Rate limit reached, waiting to retry...\n"
          ]
        },
        {
          "output_type": "stream",
          "name": "stderr",
          "text": [
            "Processing prompts:  79%|███████▊  | 943/1200 [27:20<02:07,  2.01it/s]"
          ]
        },
        {
          "output_type": "stream",
          "name": "stdout",
          "text": [
            "Rate limit reached, waiting to retry...\n"
          ]
        },
        {
          "output_type": "stream",
          "name": "stderr",
          "text": [
            "Processing prompts:  81%|████████  | 969/1200 [28:03<01:43,  2.24it/s]"
          ]
        },
        {
          "output_type": "stream",
          "name": "stdout",
          "text": [
            "Rate limit reached, waiting to retry...\n"
          ]
        },
        {
          "output_type": "stream",
          "name": "stderr",
          "text": [
            "Processing prompts:  83%|████████▎ | 992/1200 [28:45<02:05,  1.66it/s]"
          ]
        },
        {
          "output_type": "stream",
          "name": "stdout",
          "text": [
            "Rate limit reached, waiting to retry...\n"
          ]
        },
        {
          "output_type": "stream",
          "name": "stderr",
          "text": [
            "Processing prompts:  84%|████████▍ | 1014/1200 [29:27<01:42,  1.81it/s]"
          ]
        },
        {
          "output_type": "stream",
          "name": "stdout",
          "text": [
            "Rate limit reached, waiting to retry...\n"
          ]
        },
        {
          "output_type": "stream",
          "name": "stderr",
          "text": [
            "Processing prompts:  87%|████████▋ | 1045/1200 [30:21<01:29,  1.72it/s]"
          ]
        },
        {
          "output_type": "stream",
          "name": "stdout",
          "text": [
            "Rate limit reached, waiting to retry...\n"
          ]
        },
        {
          "output_type": "stream",
          "name": "stderr",
          "text": [
            "Processing prompts:  89%|████████▊ | 1064/1200 [31:00<01:02,  2.17it/s]"
          ]
        },
        {
          "output_type": "stream",
          "name": "stdout",
          "text": [
            "Rate limit reached, waiting to retry...\n"
          ]
        },
        {
          "output_type": "stream",
          "name": "stderr",
          "text": [
            "Processing prompts:  91%|█████████ | 1087/1200 [31:43<01:02,  1.82it/s]"
          ]
        },
        {
          "output_type": "stream",
          "name": "stdout",
          "text": [
            "Rate limit reached, waiting to retry...\n"
          ]
        },
        {
          "output_type": "stream",
          "name": "stderr",
          "text": [
            "Processing prompts:  92%|█████████▏| 1109/1200 [32:25<00:45,  1.99it/s]"
          ]
        },
        {
          "output_type": "stream",
          "name": "stdout",
          "text": [
            "Rate limit reached, waiting to retry...\n"
          ]
        },
        {
          "output_type": "stream",
          "name": "stderr",
          "text": [
            "Processing prompts:  94%|█████████▍| 1131/1200 [33:06<00:34,  1.98it/s]"
          ]
        },
        {
          "output_type": "stream",
          "name": "stdout",
          "text": [
            "Rate limit reached, waiting to retry...\n"
          ]
        },
        {
          "output_type": "stream",
          "name": "stderr",
          "text": [
            "Processing prompts:  96%|█████████▌| 1153/1200 [33:47<00:24,  1.93it/s]"
          ]
        },
        {
          "output_type": "stream",
          "name": "stdout",
          "text": [
            "Rate limit reached, waiting to retry...\n"
          ]
        },
        {
          "output_type": "stream",
          "name": "stderr",
          "text": [
            "Processing prompts:  98%|█████████▊| 1179/1200 [34:30<00:09,  2.18it/s]"
          ]
        },
        {
          "output_type": "stream",
          "name": "stdout",
          "text": [
            "Rate limit reached, waiting to retry...\n"
          ]
        },
        {
          "output_type": "stream",
          "name": "stderr",
          "text": [
            "Processing prompts: 100%|██████████| 1200/1200 [35:10<00:00,  1.76s/it]\n"
          ]
        }
      ]
    },
    {
      "cell_type": "code",
      "source": [
        "set(predicted_labels_gpt3_3_shot)"
      ],
      "metadata": {
        "colab": {
          "base_uri": "https://localhost:8080/"
        },
        "id": "nYDu9ZeuhX-Y",
        "outputId": "9cec678f-f5f7-4b54-eaed-8f6e2b9b9297"
      },
      "execution_count": null,
      "outputs": [
        {
          "output_type": "execute_result",
          "data": {
            "text/plain": [
              "{'Expired', 'Extended Care', 'Extended Care.', 'Home'}"
            ]
          },
          "metadata": {},
          "execution_count": 70
        }
      ]
    },
    {
      "cell_type": "code",
      "source": [
        "# Process the predictions\n",
        "processed_predictions_gpt3_3_shot = process_predictions(list(test_labels_df['label']), predicted_labels_gpt3_3_shot)"
      ],
      "metadata": {
        "id": "YEPbyp4ohaiF"
      },
      "execution_count": null,
      "outputs": []
    },
    {
      "cell_type": "code",
      "source": [
        "set(processed_predictions_gpt3_3_shot )"
      ],
      "metadata": {
        "colab": {
          "base_uri": "https://localhost:8080/"
        },
        "id": "AirJHlDLCWel",
        "outputId": "e897ee59-3f6e-4306-99d6-975bb2c286c1"
      },
      "execution_count": null,
      "outputs": [
        {
          "output_type": "execute_result",
          "data": {
            "text/plain": [
              "{'Expired', 'Extended Care', 'Home'}"
            ]
          },
          "metadata": {},
          "execution_count": 72
        }
      ]
    },
    {
      "cell_type": "code",
      "source": [
        "# Encode labels for metric calculations\n",
        "le_gpt3_3_shot = LabelEncoder()\n",
        "le_gpt3_3_shot.fit(processed_predictions_gpt3_3_shot)\n",
        "\n",
        "encoded_actual_labels_gpt3_3_shot = le_gpt3_3_shot.transform(list(test_labels_df['label']))\n",
        "encoded_predicted_labels_gpt3_3_shot = le_gpt3_3_shot.transform(processed_predictions_gpt3_3_shot)"
      ],
      "metadata": {
        "id": "vRjrVkkEhcyY"
      },
      "execution_count": null,
      "outputs": []
    },
    {
      "cell_type": "code",
      "source": [
        "# Calculate metrics\n",
        "cm_gpt3_3_shot = confusion_matrix(encoded_actual_labels_gpt3_3_shot, encoded_predicted_labels_gpt3_3_shot)\n",
        "accuracy_gpt3_3_shot = accuracy_score(encoded_actual_labels_gpt3_3_shot, encoded_predicted_labels_gpt3_3_shot)\n",
        "f1_gpt3_3_shot = f1_score(encoded_actual_labels_gpt3_3_shot, encoded_predicted_labels_gpt3_3_shot, average='weighted')\n",
        "recall_gpt3_3_shot = recall_score(encoded_actual_labels_gpt3_3_shot, encoded_predicted_labels_gpt3_3_shot, average='weighted')\n",
        "precision_gpt3_3_shot = precision_score(encoded_actual_labels_gpt3_3_shot, encoded_predicted_labels_gpt3_3_shot, average='weighted')\n",
        "\n",
        "# Print metrics and confusion matrix\n",
        "print(\"GPT 3 3 shot Confusion Matrix:\\n\", cm_gpt3_3_shot)\n",
        "print(\"GPT 3 3 shot Accuracy:\", accuracy_gpt3_3_shot)\n",
        "print(\"GPT 3 3 shot F1 Score:\", f1_gpt3_3_shot)\n",
        "print(\"GPT 3 3 shot Recall:\", recall_gpt3_3_shot)\n",
        "print(\"GPT 3 3 shot Precision:\", precision_gpt3_3_shot)"
      ],
      "metadata": {
        "colab": {
          "base_uri": "https://localhost:8080/"
        },
        "id": "aZg1eLDuhlSt",
        "outputId": "975e2f3f-801a-4ad9-fae6-5f54cea743e5"
      },
      "execution_count": null,
      "outputs": [
        {
          "output_type": "stream",
          "name": "stdout",
          "text": [
            "GPT 3 3 shot Confusion Matrix:\n",
            " [[285  29   3]\n",
            " [ 75 405 113]\n",
            " [ 26 167  97]]\n",
            "GPT 3 3 shot Accuracy: 0.6558333333333334\n",
            "GPT 3 3 shot F1 Score: 0.6426353047903893\n",
            "GPT 3 3 shot Recall: 0.6558333333333334\n",
            "GPT 3 3 shot Precision: 0.6381075973913055\n"
          ]
        }
      ]
    },
    {
      "cell_type": "code",
      "source": [
        "# Extracting the unique labels\n",
        "unique_labels_gpt3_3_shot = le_gpt3_3_shot.classes_\n",
        "\n",
        "def plot_confusion_matrix_2(cm, labels, title='GPT 3 3-Shot Confusion Matrix', cmap=plt.cm.Blues):\n",
        "    plt.figure(figsize=(8, 6))\n",
        "    sns.heatmap(cm, annot=True, fmt='d', cmap=cmap, xticklabels=labels, yticklabels=labels)\n",
        "    plt.title(title)\n",
        "    plt.ylabel('True Label')\n",
        "    plt.xlabel('Predicted Label')\n",
        "    plt.show()\n",
        "\n",
        "\n",
        "# Plot the confusion matrix\n",
        "plot_confusion_matrix_2(cm_gpt3_3_shot, unique_labels_gpt3_3_shot)"
      ],
      "metadata": {
        "colab": {
          "base_uri": "https://localhost:8080/",
          "height": 564
        },
        "id": "dWvS-y_nh-O1",
        "outputId": "462e3bec-7dea-4e64-861b-3e8c6939812f"
      },
      "execution_count": null,
      "outputs": [
        {
          "output_type": "display_data",
          "data": {
            "text/plain": [
              "<Figure size 800x600 with 2 Axes>"
            ],
            "image/png": "[encoded data removed]"
          },
          "metadata": {}
        }
      ]
    },
    {
      "cell_type": "markdown",
      "source": [
        "# Prepare 0-shot prompt dataset"
      ],
      "metadata": {
        "id": "PpIoVsCFIToY"
      }
    },
    {
      "cell_type": "code",
      "source": [
        "def create_individual_prompts_0_shot(train_texts, train_labels, test_texts, task_description=\"Classify the following text into one of the categories: Home, Extended Care, Expired. Answer in 1 single word.\"):\n",
        "    prompts = []\n",
        "    unique_labels = train_labels['label'].unique()\n",
        "\n",
        "    for i in range(len(test_texts)):\n",
        "        # Creating individual prompt for each test text\n",
        "        prompt = ''\n",
        "        prompt += task_description + \"\\n\\n\"\n",
        "        prompt += f\"Text: {test_texts.iloc[i]['text']}\\nLabel: \"\n",
        "        prompts.append(prompt)\n",
        "\n",
        "    return prompts\n",
        "\n",
        "# Generating prompts for each test text\n",
        "individual_prompt_0_shot = create_individual_prompts_0_shot(train_texts_df, train_labels_df, test_texts_df)"
      ],
      "metadata": {
        "id": "F4UywkovIW5p"
      },
      "execution_count": null,
      "outputs": []
    },
    {
      "cell_type": "code",
      "source": [
        "individual_prompt_0_shot[148]"
      ],
      "metadata": {
        "colab": {
          "base_uri": "https://localhost:8080/",
          "height": 145
        },
        "id": "1J8PSQz0IolB",
        "outputId": "1b3c4a03-cab3-435e-cc65-83f1cca9bd37"
      },
      "execution_count": null,
      "outputs": [
        {
          "output_type": "execute_result",
          "data": {
            "text/plain": [
              "'Classify the following text into one of the categories: Home, Extended Care, Expired. Answer in 1 single word.\\n\\nText: allergies is varenicline / lisinopril . chief complaint is pulmonary nodule . major surgical or invasive procedure is 1 right vats and wedge resection 2 mediastinal lymph node sampling . physical exam is gen nad cvrrr pulm nonlabored breathing on nasal cannula abd s, nt, nd . brief hospital course is patient underwent right video assisted thoracoscopic upper lobe wedge resection, mediastinal lymph node sampling on  please see operative note for details post operatively, she was straight catheterized for urinary retention her chest tube was removed on pod she was triggered for nursing concern overnight into given that she desatted to the but recovered on oxygen she will be sent home on home oxygen she is voiding, pain controlled, ambulating, tolerating regular diet there is thereby safe for discharge to home with service on  appropriate instructions and appointments were made\\nLabel: '"
            ],
            "application/vnd.google.colaboratory.intrinsic+json": {
              "type": "string"
            }
          },
          "metadata": {},
          "execution_count": 92
        }
      ]
    },
    {
      "cell_type": "markdown",
      "source": [
        "# GPT 3.5 0-shot"
      ],
      "metadata": {
        "id": "lWEEtCGsI5dJ"
      }
    },
    {
      "cell_type": "code",
      "source": [
        "# Test the function with an example prompt\n",
        "example_prompt = individual_prompt_0_shot[148]  # Replace with an actual prompt\n",
        "gpt_output_test = query_gpt3(example_prompt)\n",
        "\n",
        "print(gpt_output_test)"
      ],
      "metadata": {
        "colab": {
          "base_uri": "https://localhost:8080/"
        },
        "id": "9LgZIWXvIvim",
        "outputId": "72961898-99eb-40e4-b9b7-1e0f459db58d"
      },
      "execution_count": null,
      "outputs": [
        {
          "output_type": "stream",
          "name": "stdout",
          "text": [
            "Extended Care\n"
          ]
        }
      ]
    },
    {
      "cell_type": "code",
      "source": [
        "# Predict labels using GPT for each prompt and compare with actual labels\n",
        "predicted_labels_gpt3_0_shot = []\n",
        "for prompt in tqdm(individual_prompt_0_shot, desc=\"Processing prompts\"):\n",
        "    gpt_output = query_gpt3(prompt)\n",
        "    predicted_labels_gpt3_0_shot.append(gpt_output)"
      ],
      "metadata": {
        "colab": {
          "base_uri": "https://localhost:8080/"
        },
        "id": "gsp9JVkwJH1S",
        "outputId": "c79510ce-eda5-4ba3-fee8-618b0c39af52"
      },
      "execution_count": null,
      "outputs": [
        {
          "output_type": "stream",
          "name": "stderr",
          "text": [
            "Processing prompts: 100%|██████████| 1200/1200 [10:23<00:00,  1.92it/s]\n"
          ]
        }
      ]
    },
    {
      "cell_type": "code",
      "source": [
        "set(predicted_labels_gpt3_0_shot)"
      ],
      "metadata": {
        "colab": {
          "base_uri": "https://localhost:8080/"
        },
        "id": "19qRXbTGLodm",
        "outputId": "7e868306-7040-45e0-e4bb-b7e2a8907626"
      },
      "execution_count": null,
      "outputs": [
        {
          "output_type": "execute_result",
          "data": {
            "text/plain": [
              "{'Expired', 'Extended Care', 'Extended care', 'Home', 'Psychosis'}"
            ]
          },
          "metadata": {},
          "execution_count": 97
        }
      ]
    },
    {
      "cell_type": "code",
      "source": [
        "predicted_labels_gpt3_0_shot.index('Psychosis')"
      ],
      "metadata": {
        "colab": {
          "base_uri": "https://localhost:8080/"
        },
        "id": "fq5Q4mhELwMk",
        "outputId": "6d00a6d9-2f31-4a0c-8eaf-5ed646f3a3fe"
      },
      "execution_count": null,
      "outputs": [
        {
          "output_type": "execute_result",
          "data": {
            "text/plain": [
              "1135"
            ]
          },
          "metadata": {},
          "execution_count": 107
        }
      ]
    },
    {
      "cell_type": "code",
      "source": [
        "# fix issue of 'Psychosis'\n",
        "example_prompt = individual_prompt_0_shot[1135]\n",
        "gpt_output_test = query_gpt3(example_prompt)\n",
        "\n",
        "print(gpt_output_test)"
      ],
      "metadata": {
        "colab": {
          "base_uri": "https://localhost:8080/"
        },
        "id": "47Yg3M7FMYXz",
        "outputId": "dcf53320-c1e3-4b77-fb1d-3c20e40958a6"
      },
      "execution_count": null,
      "outputs": [
        {
          "output_type": "stream",
          "name": "stdout",
          "text": [
            "Extended Care\n"
          ]
        }
      ]
    },
    {
      "cell_type": "code",
      "source": [
        "predicted_labels_gpt3_0_shot[1135] = gpt_output_test"
      ],
      "metadata": {
        "id": "d0Zm0OauMjup"
      },
      "execution_count": null,
      "outputs": []
    },
    {
      "cell_type": "code",
      "source": [
        "processed_predictions_gpt3_0_shot = process_predictions(list(test_labels_df['label']), predicted_labels_gpt3_0_shot)\n",
        "set(processed_predictions_gpt3_0_shot)"
      ],
      "metadata": {
        "colab": {
          "base_uri": "https://localhost:8080/"
        },
        "id": "g_cNxPnfJP7g",
        "outputId": "f9824e0a-f588-490a-dad7-002dc63c5b94"
      },
      "execution_count": null,
      "outputs": [
        {
          "output_type": "execute_result",
          "data": {
            "text/plain": [
              "{'Expired', 'Extended Care', 'Home'}"
            ]
          },
          "metadata": {},
          "execution_count": 116
        }
      ]
    },
    {
      "cell_type": "code",
      "source": [
        "# Encode labels for metric calculations\n",
        "le_gpt3_0_shot = LabelEncoder()\n",
        "le_gpt3_0_shot.fit(processed_predictions_gpt3_0_shot)\n",
        "\n",
        "encoded_actual_labels_gpt3_0_shot = le_gpt3_0_shot.transform(list(test_labels_df['label']))\n",
        "encoded_predicted_labels_gpt3_0_shot = le_gpt3_0_shot.transform(processed_predictions_gpt3_0_shot)"
      ],
      "metadata": {
        "id": "TQ8ao_qYJc8S"
      },
      "execution_count": null,
      "outputs": []
    },
    {
      "cell_type": "code",
      "source": [
        "# Calculate metrics\n",
        "cm_gpt3_0_shot = confusion_matrix(encoded_actual_labels_gpt3_0_shot, encoded_predicted_labels_gpt3_0_shot)\n",
        "accuracy_gpt3_0_shot = accuracy_score(encoded_actual_labels_gpt3_0_shot, encoded_predicted_labels_gpt3_0_shot)\n",
        "f1_gpt3_0_shot = f1_score(encoded_actual_labels_gpt3_0_shot, encoded_predicted_labels_gpt3_0_shot, average='weighted')\n",
        "recall_gpt3_0_shot = recall_score(encoded_actual_labels_gpt3_0_shot, encoded_predicted_labels_gpt3_0_shot, average='weighted')\n",
        "precision_gpt3_0_shot = precision_score(encoded_actual_labels_gpt3_0_shot, encoded_predicted_labels_gpt3_0_shot, average='weighted')\n",
        "\n",
        "# Print metrics and confusion matrix\n",
        "print(\"GPT 3 zero shot Confusion Matrix:\\n\", cm_gpt3_0_shot)\n",
        "print(\"GPT 3 zero shot Accuracy:\", accuracy_gpt3_0_shot)\n",
        "print(\"GPT 3 zero shot F1 Score:\", f1_gpt3_0_shot)\n",
        "print(\"GPT 3 zero shot Recall:\", recall_gpt3_0_shot)\n",
        "print(\"GPT 3 zero shot Precision:\", precision_gpt3_0_shot)"
      ],
      "metadata": {
        "colab": {
          "base_uri": "https://localhost:8080/"
        },
        "id": "E-az9VqAJjML",
        "outputId": "a0badafe-1efb-4021-934d-838dc63c75c0"
      },
      "execution_count": null,
      "outputs": [
        {
          "output_type": "stream",
          "name": "stdout",
          "text": [
            "GPT 3 zero shot Confusion Matrix:\n",
            " [[256  56   5]\n",
            " [ 62 482  49]\n",
            " [ 23 230  37]]\n",
            "GPT 3 zero shot Accuracy: 0.6458333333333334\n",
            "GPT 3 zero shot F1 Score: 0.6025096545189891\n",
            "GPT 3 zero shot Recall: 0.6458333333333334\n",
            "GPT 3 zero shot Precision: 0.6067198028645862\n"
          ]
        }
      ]
    },
    {
      "cell_type": "code",
      "source": [
        "# Extracting the unique labels\n",
        "unique_labels_gpt3_0_shot = le_gpt3_0_shot.classes_\n",
        "\n",
        "def plot_confusion_matrix_3(cm, labels, title='GPT 3 0-Shot Confusion Matrix', cmap=plt.cm.Blues):\n",
        "    plt.figure(figsize=(8, 6))\n",
        "    sns.heatmap(cm, annot=True, fmt='d', cmap=cmap, xticklabels=labels, yticklabels=labels)\n",
        "    plt.title(title)\n",
        "    plt.ylabel('True Label')\n",
        "    plt.xlabel('Predicted Label')\n",
        "    plt.show()\n",
        "\n",
        "\n",
        "# Plot the confusion matrix\n",
        "plot_confusion_matrix_3(cm_gpt3_0_shot, unique_labels_gpt3_0_shot)"
      ],
      "metadata": {
        "colab": {
          "base_uri": "https://localhost:8080/",
          "height": 564
        },
        "id": "-Y3k3b81J3gf",
        "outputId": "a0f83055-321f-4d52-f210-b6f8bf13679e"
      },
      "execution_count": null,
      "outputs": [
        {
          "output_type": "display_data",
          "data": {
            "text/plain": [
              "<Figure size 800x600 with 2 Axes>"
            ],
            "image/png": "[encoded data removed]"
          },
          "metadata": {}
        }
      ]
    },
    {
      "cell_type": "markdown",
      "source": [
        "# GPT 3.5 0-shot with label explaination"
      ],
      "metadata": {
        "id": "oT6l1cc-dWkP"
      }
    },
    {
      "cell_type": "code",
      "source": [
        "description = 'Home: Patients in this stage are generally free from significant physical or mental health issues. They exhibit normal physiological functions, have a good quality of life, and are not currently experiencing symptoms that require medical attention. Health check-ups may reveal no major abnormalities.' \\\n",
        "              'Extended Care: This stage encompasses individuals who are experiencing symptoms or health issues that necessitate medical attention or care. It can include a wide range of conditions, from minor illnesses to chronic diseases, requiring varying levels of intervention. Patients in this stage may exhibit physical or psychological symptoms, seek medical advice, and undergo diagnostic tests or treatment. The goal is to address and manage their health concerns to improve their overall well-being.'\\\n",
        "              'Expired (Deceased): This stage refers to individuals who have passed away. Death can result from various causes, including illness, injury, or natural processes. Patients in this stage no longer exhibit signs of life.'\n",
        "description"
      ],
      "metadata": {
        "colab": {
          "base_uri": "https://localhost:8080/",
          "height": 145
        },
        "id": "xkgvo1-6dXgn",
        "outputId": "afb0336f-4e1e-4342-c1f2-bec9728fd8d5"
      },
      "execution_count": null,
      "outputs": [
        {
          "output_type": "execute_result",
          "data": {
            "text/plain": [
              "'Home: Patients in this stage are generally free from significant physical or mental health issues. They exhibit normal physiological functions, have a good quality of life, and are not currently experiencing symptoms that require medical attention. Health check-ups may reveal no major abnormalities.Extended Care: This stage encompasses individuals who are experiencing symptoms or health issues that necessitate medical attention or care. It can include a wide range of conditions, from minor illnesses to chronic diseases, requiring varying levels of intervention. Patients in this stage may exhibit physical or psychological symptoms, seek medical advice, and undergo diagnostic tests or treatment. The goal is to address and manage their health concerns to improve their overall well-being.Expired (Deceased): This stage refers to individuals who have passed away. Death can result from various causes, including illness, injury, or natural processes. Patients in this stage no longer exhibit signs of life.'"
            ],
            "application/vnd.google.colaboratory.intrinsic+json": {
              "type": "string"
            }
          },
          "metadata": {},
          "execution_count": 180
        }
      ]
    },
    {
      "cell_type": "code",
      "source": [
        "def create_individual_prompts_0_shot_support(train_texts, train_labels, test_texts,\n",
        "                                             task_description=\"Classify the following text into one of the categories: Home, Extended Care, Expired. Answer in 1 single word.\" + description):\n",
        "    prompts = []\n",
        "    unique_labels = train_labels['label'].unique()\n",
        "\n",
        "    for i in range(len(test_texts)):\n",
        "        # Creating individual prompt for each test text\n",
        "        prompt = ''\n",
        "        prompt += task_description + \"\\n\\n\"\n",
        "        prompt += f\"Text: {test_texts.iloc[i]['text']}\\nLabel: \"\n",
        "        prompts.append(prompt)\n",
        "\n",
        "    return prompts\n",
        "\n",
        "# Generating prompts for each test text\n",
        "individual_prompt_0_shot_support = create_individual_prompts_0_shot_support(train_texts_df, train_labels_df, test_texts_df)"
      ],
      "metadata": {
        "id": "JWtLyBTme-A9"
      },
      "execution_count": null,
      "outputs": []
    },
    {
      "cell_type": "code",
      "source": [
        "# Test the function with an example prompt\n",
        "example_prompt = individual_prompt_0_shot_support[148]  # Replace with an actual prompt\n",
        "gpt_output_test = query_gpt3(example_prompt)\n",
        "\n",
        "print(gpt_output_test)"
      ],
      "metadata": {
        "colab": {
          "base_uri": "https://localhost:8080/"
        },
        "id": "-xt1vviedtnz",
        "outputId": "9286a11a-6d62-45d5-c1c7-c25b6f73925f"
      },
      "execution_count": null,
      "outputs": [
        {
          "output_type": "stream",
          "name": "stdout",
          "text": [
            "Extended Care\n"
          ]
        }
      ]
    },
    {
      "cell_type": "code",
      "source": [
        "# Predict labels using GPT for each prompt and compare with actual labels\n",
        "predicted_labels_gpt3_0_shot_support = []\n",
        "for prompt in tqdm(individual_prompt_0_shot_support, desc=\"Processing prompts\"):\n",
        "    gpt_output = query_gpt3(prompt)\n",
        "    predicted_labels_gpt3_0_shot_support.append(gpt_output)"
      ],
      "metadata": {
        "colab": {
          "base_uri": "https://localhost:8080/"
        },
        "id": "ayNgBkGDfSlJ",
        "outputId": "7e5bbfea-e856-4fb1-fe77-e6693f423984"
      },
      "execution_count": null,
      "outputs": [
        {
          "output_type": "stream",
          "name": "stderr",
          "text": [
            "Processing prompts:  28%|██▊       | 338/1200 [02:36<06:31,  2.20it/s]"
          ]
        },
        {
          "output_type": "stream",
          "name": "stdout",
          "text": [
            "Rate limit reached, waiting to retry...\n"
          ]
        },
        {
          "output_type": "stream",
          "name": "stderr",
          "text": [
            "Processing prompts:  48%|████▊     | 582/1200 [05:10<04:33,  2.26it/s]"
          ]
        },
        {
          "output_type": "stream",
          "name": "stdout",
          "text": [
            "Rate limit reached, waiting to retry...\n"
          ]
        },
        {
          "output_type": "stream",
          "name": "stderr",
          "text": [
            "Processing prompts:  57%|█████▋    | 686/1200 [06:24<03:42,  2.31it/s]"
          ]
        },
        {
          "output_type": "stream",
          "name": "stdout",
          "text": [
            "Rate limit reached, waiting to retry...\n"
          ]
        },
        {
          "output_type": "stream",
          "name": "stderr",
          "text": [
            "Processing prompts:  66%|██████▌   | 794/1200 [07:38<02:25,  2.79it/s]"
          ]
        },
        {
          "output_type": "stream",
          "name": "stdout",
          "text": [
            "Rate limit reached, waiting to retry...\n"
          ]
        },
        {
          "output_type": "stream",
          "name": "stderr",
          "text": [
            "Processing prompts:  77%|███████▋  | 922/1200 [09:03<01:45,  2.63it/s]"
          ]
        },
        {
          "output_type": "stream",
          "name": "stdout",
          "text": [
            "Rate limit reached, waiting to retry...\n"
          ]
        },
        {
          "output_type": "stream",
          "name": "stderr",
          "text": [
            "Processing prompts:  88%|████████▊ | 1053/1200 [10:27<01:01,  2.37it/s]"
          ]
        },
        {
          "output_type": "stream",
          "name": "stdout",
          "text": [
            "Rate limit reached, waiting to retry...\n"
          ]
        },
        {
          "output_type": "stream",
          "name": "stderr",
          "text": [
            "Processing prompts:  98%|█████████▊| 1176/1200 [11:48<00:09,  2.61it/s]"
          ]
        },
        {
          "output_type": "stream",
          "name": "stdout",
          "text": [
            "Rate limit reached, waiting to retry...\n"
          ]
        },
        {
          "output_type": "stream",
          "name": "stderr",
          "text": [
            "Processing prompts: 100%|██████████| 1200/1200 [12:28<00:00,  1.60it/s]\n"
          ]
        }
      ]
    },
    {
      "cell_type": "code",
      "source": [
        "set(predicted_labels_gpt3_0_shot_support)"
      ],
      "metadata": {
        "colab": {
          "base_uri": "https://localhost:8080/"
        },
        "id": "Z3EBCwO6jTIx",
        "outputId": "8b0d0516-80ca-42bf-ff80-44e575c600ca"
      },
      "execution_count": null,
      "outputs": [
        {
          "output_type": "execute_result",
          "data": {
            "text/plain": [
              "{'Expired',\n",
              " 'Expired.',\n",
              " 'Expried',\n",
              " 'Extended Care',\n",
              " 'Extended Care.',\n",
              " 'Extended care',\n",
              " 'Home'}"
            ]
          },
          "metadata": {},
          "execution_count": 194
        }
      ]
    },
    {
      "cell_type": "code",
      "source": [
        "processed_predictions_gpt3_0_shot_support = process_predictions(list(test_labels_df['label']), predicted_labels_gpt3_0_shot_support)\n",
        "set(processed_predictions_gpt3_0_shot_support)"
      ],
      "metadata": {
        "colab": {
          "base_uri": "https://localhost:8080/"
        },
        "id": "fL5rSXZCfg6Z",
        "outputId": "0218b071-acb6-4fa3-905e-d14c96d49757"
      },
      "execution_count": null,
      "outputs": [
        {
          "output_type": "execute_result",
          "data": {
            "text/plain": [
              "{'Expired', 'Extended Care', 'Home'}"
            ]
          },
          "metadata": {},
          "execution_count": 196
        }
      ]
    },
    {
      "cell_type": "code",
      "source": [
        "# Encode labels for metric calculations\n",
        "le_gpt3_0_shot_support = LabelEncoder()\n",
        "le_gpt3_0_shot_support.fit(processed_predictions_gpt3_0_shot_support)\n",
        "\n",
        "encoded_actual_labels_gpt3_0_shot_support = le_gpt3_0_shot_support.transform(list(test_labels_df['label']))\n",
        "encoded_predicted_labels_gpt3_0_shot_support = le_gpt3_0_shot.transform(processed_predictions_gpt3_0_shot_support)"
      ],
      "metadata": {
        "id": "NqKo62rJgT8x"
      },
      "execution_count": null,
      "outputs": []
    },
    {
      "cell_type": "code",
      "source": [
        "# Calculate metrics\n",
        "cm_gpt3_0_shot_support = confusion_matrix(encoded_actual_labels_gpt3_0_shot_support, encoded_predicted_labels_gpt3_0_shot_support)\n",
        "accuracy_gpt3_0_shot_support = accuracy_score(encoded_actual_labels_gpt3_0_shot_support, encoded_predicted_labels_gpt3_0_shot_support)\n",
        "f1_gpt3_0_shot_support = f1_score(encoded_actual_labels_gpt3_0_shot_support, encoded_predicted_labels_gpt3_0_shot_support, average='weighted')\n",
        "recall_gpt3_0_shot_support = recall_score(encoded_actual_labels_gpt3_0_shot_support, encoded_predicted_labels_gpt3_0_shot_support, average='weighted')\n",
        "precision_gpt3_0_shot_support = precision_score(encoded_actual_labels_gpt3_0_shot_support, encoded_predicted_labels_gpt3_0_shot_support, average='weighted')\n",
        "\n",
        "# Print metrics and confusion matrix\n",
        "print(\"GPT 3 zero shot (with explainatin) Confusion Matrix:\\n\", cm_gpt3_0_shot_support)\n",
        "print(\"GPT 3 zero shot (with explainatin) Accuracy:\", accuracy_gpt3_0_shot_support)\n",
        "print(\"GPT 3 zero shot (with explainatin) F1 Score:\", f1_gpt3_0_shot_support)\n",
        "print(\"GPT 3 zero shot (with explainatin) Recall:\", recall_gpt3_0_shot_support)\n",
        "print(\"GPT 3 zero shot (with explainatin) Precision:\", precision_gpt3_0_shot_support)"
      ],
      "metadata": {
        "colab": {
          "base_uri": "https://localhost:8080/"
        },
        "id": "gmxCDc9jfs1s",
        "outputId": "ab7fa1ff-c81a-4b38-f040-14b15f1c85ad"
      },
      "execution_count": null,
      "outputs": [
        {
          "output_type": "stream",
          "name": "stdout",
          "text": [
            "GPT 3 zero shot (with explainatin) Confusion Matrix:\n",
            " [[249  62   6]\n",
            " [ 28 522  43]\n",
            " [  5 253  32]]\n",
            "GPT 3 zero shot (with explainatin) Accuracy: 0.6691666666666667\n",
            "GPT 3 zero shot (with explainatin) F1 Score: 0.6220897262143995\n",
            "GPT 3 zero shot (with explainatin) Recall: 0.6691666666666667\n",
            "GPT 3 zero shot (with explainatin) Precision: 0.6369167612858034\n"
          ]
        }
      ]
    },
    {
      "cell_type": "code",
      "source": [
        "# Extracting the unique labels\n",
        "unique_labels_gpt3_0_shot_support = le_gpt3_0_shot_support.classes_\n",
        "\n",
        "def plot_confusion_matrix_3(cm, labels, title='GPT 3 0-Shot (with explainatin) Confusion Matrix', cmap=plt.cm.Blues):\n",
        "    plt.figure(figsize=(8, 6))\n",
        "    sns.heatmap(cm, annot=True, fmt='d', cmap=cmap, xticklabels=labels, yticklabels=labels)\n",
        "    plt.title(title)\n",
        "    plt.ylabel('True Label')\n",
        "    plt.xlabel('Predicted Label')\n",
        "    plt.show()\n",
        "\n",
        "\n",
        "# Plot the confusion matrix\n",
        "plot_confusion_matrix_3(cm_gpt3_0_shot_support, unique_labels_gpt3_0_shot_support)"
      ],
      "metadata": {
        "colab": {
          "base_uri": "https://localhost:8080/",
          "height": 564
        },
        "id": "1v0E3NEtj2sM",
        "outputId": "42e1ef22-4857-4710-a714-6e0387acb3af"
      },
      "execution_count": null,
      "outputs": [
        {
          "output_type": "display_data",
          "data": {
            "text/plain": [
              "<Figure size 800x600 with 2 Axes>"
            ],
            "image/png": "[encoded data removed]"
          },
          "metadata": {}
        }
      ]
    },
    {
      "cell_type": "markdown",
      "source": [
        "# Save all predicted results"
      ],
      "metadata": {
        "id": "wjDNNCPyudnU"
      }
    },
    {
      "cell_type": "code",
      "source": [
        "processed_predictions_gpt3\n",
        "\n",
        "pred_2_shot = {\n",
        "    'Prediction': processed_predictions_gpt3\n",
        "}\n",
        "\n",
        "# Convert the data into a DataFrame\n",
        "df1 = pd.DataFrame(pred_2_shot)\n",
        "\n",
        "# Save the DataFrame to a CSV file\n",
        "csv_file_path1 = 'two_shot_predict.csv'\n",
        "df1.to_csv(csv_file_path1, index=False)"
      ],
      "metadata": {
        "id": "Ef4Btxedufcq"
      },
      "execution_count": 223,
      "outputs": []
    },
    {
      "cell_type": "code",
      "source": [
        "processed_predictions_gpt3_3_shot\n",
        "\n",
        "pred_3_shot = {\n",
        "    'Prediction': processed_predictions_gpt3_3_shot\n",
        "}\n",
        "\n",
        "# Convert the data into a DataFrame\n",
        "df2 = pd.DataFrame(pred_3_shot)\n",
        "\n",
        "# Save the DataFrame to a CSV file\n",
        "csv_file_path2 = 'three_shot_predict.csv'\n",
        "df2.to_csv(csv_file_path2, index=False)"
      ],
      "metadata": {
        "id": "18Efb9gEuscy"
      },
      "execution_count": 224,
      "outputs": []
    },
    {
      "cell_type": "code",
      "source": [
        "processed_predictions_gpt3_0_shot\n",
        "\n",
        "pred_0_shot = {\n",
        "    'Prediction': processed_predictions_gpt3_0_shot\n",
        "}\n",
        "\n",
        "# Convert the data into a DataFrame\n",
        "df3 = pd.DataFrame(pred_0_shot)\n",
        "\n",
        "# Save the DataFrame to a CSV file\n",
        "csv_file_path3 = 'zero_shot_predict.csv'\n",
        "df3.to_csv(csv_file_path3, index=False)"
      ],
      "metadata": {
        "id": "0-aCXh9cNQeI"
      },
      "execution_count": 225,
      "outputs": []
    },
    {
      "cell_type": "code",
      "source": [
        "processed_predictions_gpt3_0_shot_support\n",
        "\n",
        "pred_0_shot_support = {\n",
        "    'Prediction': processed_predictions_gpt3_0_shot_support\n",
        "}\n",
        "\n",
        "# Convert the data into a DataFrame\n",
        "df4 = pd.DataFrame(pred_0_shot)\n",
        "\n",
        "# Save the DataFrame to a CSV file\n",
        "csv_file_path4 = 'zero_shot_explain_predict.csv'\n",
        "df4.to_csv(csv_file_path4, index=False)"
      ],
      "metadata": {
        "id": "i71Nbhj8nORy"
      },
      "execution_count": 226,
      "outputs": []
    },
    {
      "cell_type": "markdown",
      "source": [
        "# Table"
      ],
      "metadata": {
        "id": "LooC5eKbiFlN"
      }
    },
    {
      "cell_type": "code",
      "source": [
        "import pandas as pd\n",
        "\n",
        "# Creating a DataFrame to display the results in a table format\n",
        "results_data = {\n",
        "    \"Model\": [\"0-Shot Learning (GPT 3.5 Turbo)\",\n",
        "              \"0-Shot with Explainatin (GPT 3.5 Turbo)\",\n",
        "              \"2-Shot Learning (GPT 3.5 Turbo)\",\n",
        "              \"3-Shot Learning (GPT 3.5 Turbo)\",\n",
        "              ],\n",
        "    \"accuracy\": [0.6458333333333334, 0.6691666666666667, 0.6883333333333334, 0.6558333333333334],\n",
        "    \"f1\": [0.6025096545189891, 0.6220897262143995, 0.6714712805356682, 0.6426353047903893],\n",
        "    \"precision\": [0.6067198028645862, 0.6369167612858034, 0.6745971279818891, 0.6381075973913055],\n",
        "    \"recall\": [0.6458333333333334, 0.6691666666666667, 0.6883333333333334, 0.6558333333333334],\n",
        "}\n",
        "\n",
        "results_df = pd.DataFrame(results_data)\n",
        "results_df"
      ],
      "metadata": {
        "colab": {
          "base_uri": "https://localhost:8080/",
          "height": 174
        },
        "id": "SzrPYhZUiGbJ",
        "outputId": "048cf377-64b9-4da5-caf4-304a504f3399"
      },
      "execution_count": 218,
      "outputs": [
        {
          "output_type": "execute_result",
          "data": {
            "text/plain": [
              "                                     Model  accuracy        f1  precision  \\\n",
              "0          0-Shot Learning (GPT 3.5 Turbo)  0.645833  0.602510   0.606720   \n",
              "1  0-Shot with Explainatin (GPT 3.5 Turbo)  0.669167  0.622090   0.636917   \n",
              "2          2-Shot Learning (GPT 3.5 Turbo)  0.688333  0.671471   0.674597   \n",
              "3          3-Shot Learning (GPT 3.5 Turbo)  0.655833  0.642635   0.638108   \n",
              "\n",
              "     recall  \n",
              "0  0.645833  \n",
              "1  0.669167  \n",
              "2  0.688333  \n",
              "3  0.655833  "
            ],
            "text/html": [
              "\n",
              "  <div id=\"df-944cf65e-51d8-4fc1-8eb1-efafea61d785\" class=\"colab-df-container\">\n",
              "    <div>\n",
              "<style scoped>\n",
              "    .dataframe tbody tr th:only-of-type {\n",
              "        vertical-align: middle;\n",
              "    }\n",
              "\n",
              "    .dataframe tbody tr th {\n",
              "        vertical-align: top;\n",
              "    }\n",
              "\n",
              "    .dataframe thead th {\n",
              "        text-align: right;\n",
              "    }\n",
              "</style>\n",
              "<table border=\"1\" class=\"dataframe\">\n",
              "  <thead>\n",
              "    <tr style=\"text-align: right;\">\n",
              "      <th></th>\n",
              "      <th>Model</th>\n",
              "      <th>accuracy</th>\n",
              "      <th>f1</th>\n",
              "      <th>precision</th>\n",
              "      <th>recall</th>\n",
              "    </tr>\n",
              "  </thead>\n",
              "  <tbody>\n",
              "    <tr>\n",
              "      <th>0</th>\n",
              "      <td>0-Shot Learning (GPT 3.5 Turbo)</td>\n",
              "      <td>0.645833</td>\n",
              "      <td>0.602510</td>\n",
              "      <td>0.606720</td>\n",
              "      <td>0.645833</td>\n",
              "    </tr>\n",
              "    <tr>\n",
              "      <th>1</th>\n",
              "      <td>0-Shot with Explainatin (GPT 3.5 Turbo)</td>\n",
              "      <td>0.669167</td>\n",
              "      <td>0.622090</td>\n",
              "      <td>0.636917</td>\n",
              "      <td>0.669167</td>\n",
              "    </tr>\n",
              "    <tr>\n",
              "      <th>2</th>\n",
              "      <td>2-Shot Learning (GPT 3.5 Turbo)</td>\n",
              "      <td>0.688333</td>\n",
              "      <td>0.671471</td>\n",
              "      <td>0.674597</td>\n",
              "      <td>0.688333</td>\n",
              "    </tr>\n",
              "    <tr>\n",
              "      <th>3</th>\n",
              "      <td>3-Shot Learning (GPT 3.5 Turbo)</td>\n",
              "      <td>0.655833</td>\n",
              "      <td>0.642635</td>\n",
              "      <td>0.638108</td>\n",
              "      <td>0.655833</td>\n",
              "    </tr>\n",
              "  </tbody>\n",
              "</table>\n",
              "</div>\n",
              "    <div class=\"colab-df-buttons\">\n",
              "\n",
              "  <div class=\"colab-df-container\">\n",
              "    <button class=\"colab-df-convert\" onclick=\"convertToInteractive('df-944cf65e-51d8-4fc1-8eb1-efafea61d785')\"\n",
              "            title=\"Convert this dataframe to an interactive table.\"\n",
              "            style=\"display:none;\">\n",
              "\n",
              "  <svg xmlns=\"http://www.w3.org/2000/svg\" height=\"24px\" viewBox=\"0 -960 960 960\">\n",
              "    <path d=\"M120-120v-720h720v720H120Zm60-500h600v-160H180v160Zm220 220h160v-160H400v160Zm0 220h160v-160H400v160ZM180-400h160v-160H180v160Zm440 0h160v-160H620v160ZM180-180h160v-160H180v160Zm440 0h160v-160H620v160Z\"/>\n",
              "  </svg>\n",
              "    </button>\n",
              "\n",
              "  <style>\n",
              "    .colab-df-container {\n",
              "      display:flex;\n",
              "      gap: 12px;\n",
              "    }\n",
              "\n",
              "    .colab-df-convert {\n",
              "      background-color: #E8F0FE;\n",
              "      border: none;\n",
              "      border-radius: 50%;\n",
              "      cursor: pointer;\n",
              "      display: none;\n",
              "      fill: #1967D2;\n",
              "      height: 32px;\n",
              "      padding: 0 0 0 0;\n",
              "      width: 32px;\n",
              "    }\n",
              "\n",
              "    .colab-df-convert:hover {\n",
              "      background-color: #E2EBFA;\n",
              "      box-shadow: 0px 1px 2px rgba(60, 64, 67, 0.3), 0px 1px 3px 1px rgba(60, 64, 67, 0.15);\n",
              "      fill: #174EA6;\n",
              "    }\n",
              "\n",
              "    .colab-df-buttons div {\n",
              "      margin-bottom: 4px;\n",
              "    }\n",
              "\n",
              "    [theme=dark] .colab-df-convert {\n",
              "      background-color: #3B4455;\n",
              "      fill: #D2E3FC;\n",
              "    }\n",
              "\n",
              "    [theme=dark] .colab-df-convert:hover {\n",
              "      background-color: #434B5C;\n",
              "      box-shadow: 0px 1px 3px 1px rgba(0, 0, 0, 0.15);\n",
              "      filter: drop-shadow(0px 1px 2px rgba(0, 0, 0, 0.3));\n",
              "      fill: #FFFFFF;\n",
              "    }\n",
              "  </style>\n",
              "\n",
              "    <script>\n",
              "      const buttonEl =\n",
              "        document.querySelector('#df-944cf65e-51d8-4fc1-8eb1-efafea61d785 button.colab-df-convert');\n",
              "      buttonEl.style.display =\n",
              "        google.colab.kernel.accessAllowed ? 'block' : 'none';\n",
              "\n",
              "      async function convertToInteractive(key) {\n",
              "        const element = document.querySelector('#df-944cf65e-51d8-4fc1-8eb1-efafea61d785');\n",
              "        const dataTable =\n",
              "          await google.colab.kernel.invokeFunction('convertToInteractive',\n",
              "                                                    [key], {});\n",
              "        if (!dataTable) return;\n",
              "\n",
              "        const docLinkHtml = 'Like what you see? Visit the ' +\n",
              "          '<a target=\"_blank\" href=https://colab.research.google.com/notebooks/data_table.ipynb>data table notebook</a>'\n",
              "          + ' to learn more about interactive tables.';\n",
              "        element.innerHTML = '';\n",
              "        dataTable['output_type'] = 'display_data';\n",
              "        await google.colab.output.renderOutput(dataTable, element);\n",
              "        const docLink = document.createElement('div');\n",
              "        docLink.innerHTML = docLinkHtml;\n",
              "        element.appendChild(docLink);\n",
              "      }\n",
              "    </script>\n",
              "  </div>\n",
              "\n",
              "\n",
              "<div id=\"df-d627c7dd-4805-4b4d-be66-dd116b327cac\">\n",
              "  <button class=\"colab-df-quickchart\" onclick=\"quickchart('df-d627c7dd-4805-4b4d-be66-dd116b327cac')\"\n",
              "            title=\"Suggest charts\"\n",
              "            style=\"display:none;\">\n",
              "\n",
              "<svg xmlns=\"http://www.w3.org/2000/svg\" height=\"24px\"viewBox=\"0 0 24 24\"\n",
              "     width=\"24px\">\n",
              "    <g>\n",
              "        <path d=\"M19 3H5c-1.1 0-2 .9-2 2v14c0 1.1.9 2 2 2h14c1.1 0 2-.9 2-2V5c0-1.1-.9-2-2-2zM9 17H7v-7h2v7zm4 0h-2V7h2v10zm4 0h-2v-4h2v4z\"/>\n",
              "    </g>\n",
              "</svg>\n",
              "  </button>\n",
              "\n",
              "<style>\n",
              "  .colab-df-quickchart {\n",
              "      --bg-color: #E8F0FE;\n",
              "      --fill-color: #1967D2;\n",
              "      --hover-bg-color: #E2EBFA;\n",
              "      --hover-fill-color: #174EA6;\n",
              "      --disabled-fill-color: #AAA;\n",
              "      --disabled-bg-color: #DDD;\n",
              "  }\n",
              "\n",
              "  [theme=dark] .colab-df-quickchart {\n",
              "      --bg-color: #3B4455;\n",
              "      --fill-color: #D2E3FC;\n",
              "      --hover-bg-color: #434B5C;\n",
              "      --hover-fill-color: #FFFFFF;\n",
              "      --disabled-bg-color: #3B4455;\n",
              "      --disabled-fill-color: #666;\n",
              "  }\n",
              "\n",
              "  .colab-df-quickchart {\n",
              "    background-color: var(--bg-color);\n",
              "    border: none;\n",
              "    border-radius: 50%;\n",
              "    cursor: pointer;\n",
              "    display: none;\n",
              "    fill: var(--fill-color);\n",
              "    height: 32px;\n",
              "    padding: 0;\n",
              "    width: 32px;\n",
              "  }\n",
              "\n",
              "  .colab-df-quickchart:hover {\n",
              "    background-color: var(--hover-bg-color);\n",
              "    box-shadow: 0 1px 2px rgba(60, 64, 67, 0.3), 0 1px 3px 1px rgba(60, 64, 67, 0.15);\n",
              "    fill: var(--button-hover-fill-color);\n",
              "  }\n",
              "\n",
              "  .colab-df-quickchart-complete:disabled,\n",
              "  .colab-df-quickchart-complete:disabled:hover {\n",
              "    background-color: var(--disabled-bg-color);\n",
              "    fill: var(--disabled-fill-color);\n",
              "    box-shadow: none;\n",
              "  }\n",
              "\n",
              "  .colab-df-spinner {\n",
              "    border: 2px solid var(--fill-color);\n",
              "    border-color: transparent;\n",
              "    border-bottom-color: var(--fill-color);\n",
              "    animation:\n",
              "      spin 1s steps(1) infinite;\n",
              "  }\n",
              "\n",
              "  @keyframes spin {\n",
              "    0% {\n",
              "      border-color: transparent;\n",
              "      border-bottom-color: var(--fill-color);\n",
              "      border-left-color: var(--fill-color);\n",
              "    }\n",
              "    20% {\n",
              "      border-color: transparent;\n",
              "      border-left-color: var(--fill-color);\n",
              "      border-top-color: var(--fill-color);\n",
              "    }\n",
              "    30% {\n",
              "      border-color: transparent;\n",
              "      border-left-color: var(--fill-color);\n",
              "      border-top-color: var(--fill-color);\n",
              "      border-right-color: var(--fill-color);\n",
              "    }\n",
              "    40% {\n",
              "      border-color: transparent;\n",
              "      border-right-color: var(--fill-color);\n",
              "      border-top-color: var(--fill-color);\n",
              "    }\n",
              "    60% {\n",
              "      border-color: transparent;\n",
              "      border-right-color: var(--fill-color);\n",
              "    }\n",
              "    80% {\n",
              "      border-color: transparent;\n",
              "      border-right-color: var(--fill-color);\n",
              "      border-bottom-color: var(--fill-color);\n",
              "    }\n",
              "    90% {\n",
              "      border-color: transparent;\n",
              "      border-bottom-color: var(--fill-color);\n",
              "    }\n",
              "  }\n",
              "</style>\n",
              "\n",
              "  <script>\n",
              "    async function quickchart(key) {\n",
              "      const quickchartButtonEl =\n",
              "        document.querySelector('#' + key + ' button');\n",
              "      quickchartButtonEl.disabled = true;  // To prevent multiple clicks.\n",
              "      quickchartButtonEl.classList.add('colab-df-spinner');\n",
              "      try {\n",
              "        const charts = await google.colab.kernel.invokeFunction(\n",
              "            'suggestCharts', [key], {});\n",
              "      } catch (error) {\n",
              "        console.error('Error during call to suggestCharts:', error);\n",
              "      }\n",
              "      quickchartButtonEl.classList.remove('colab-df-spinner');\n",
              "      quickchartButtonEl.classList.add('colab-df-quickchart-complete');\n",
              "    }\n",
              "    (() => {\n",
              "      let quickchartButtonEl =\n",
              "        document.querySelector('#df-d627c7dd-4805-4b4d-be66-dd116b327cac button');\n",
              "      quickchartButtonEl.style.display =\n",
              "        google.colab.kernel.accessAllowed ? 'block' : 'none';\n",
              "    })();\n",
              "  </script>\n",
              "</div>\n",
              "    </div>\n",
              "  </div>\n"
            ]
          },
          "metadata": {},
          "execution_count": 218
        }
      ]
    },
    {
      "cell_type": "code",
      "source": [
        "import pandas as pd\n",
        "\n",
        "# Creating a DataFrame to display the results in a table format\n",
        "results_data = {\n",
        "    \"Model\": [\"Basic Baseline (RoBERTa no finetune)\",\n",
        "              \"Fancy Baseline (RoBERTa with finetuning)\",\n",
        "              \"MedBERT (with fine-tune)\",\n",
        "              \"PubMedBERT + Linear Head (with finetuning)\",\n",
        "              \"PubMedBERT + LSTM Head (with finetuning)\",\n",
        "              \"0-Shot Learning (GPT 3.5 Turbo)\",\n",
        "              \"0-Shot Learning with Explainatin (GPT 3.5 Turbo)\",\n",
        "              \"2-Shot Learning (GPT 3.5 Turbo)\",\n",
        "              \"3-Shot Learning (GPT 3.5 Turbo)\",\n",
        "              ],\n",
        "    \"loss\": [1.006448, 0.587303, 0.692040, 0.673323, 0.655659, '-', '-', '-', '-'],\n",
        "    \"accuracy\": [0.494167, 0.759167, 0.781667, 0.782500, 0.776667, 0.6458333333333334, 0.6691666666666667, 0.6883333333333334, 0.6558333333333334],\n",
        "    \"f1\": [0.326872, 0.759407, 0.782680, 0.782968, 0.777184, 0.6025096545189891, 0.6220897262143995, 0.6714712805356682, 0.6426353047903893],\n",
        "    \"precision\": [0.244201, 0.763421, 0.784817, 0.785014, 0.778512, 0.6067198028645862, 0.6369167612858034, 0.6745971279818891, 0.6381075973913055],\n",
        "    \"recall\": [0.494167, 0.759167, 0.781667, 0.782500, 0.776667, 0.6458333333333334, 0.6691666666666667, 0.6883333333333334, 0.6558333333333334],\n",
        "    \"epoch\": [3.0, 3.0, 3.0, 3.0, 3.0, '-', '-', '-', '-']\n",
        "}\n",
        "\n",
        "results_df = pd.DataFrame(results_data)\n",
        "results_df"
      ],
      "metadata": {
        "colab": {
          "base_uri": "https://localhost:8080/",
          "height": 331
        },
        "id": "GBfRrafAxslD",
        "outputId": "0954410d-fe7e-4ca6-d2c4-b288c21c7bf3"
      },
      "execution_count": 227,
      "outputs": [
        {
          "output_type": "execute_result",
          "data": {
            "text/plain": [
              "                                              Model      loss  accuracy  \\\n",
              "0              Basic Baseline (RoBERTa no finetune)  1.006448  0.494167   \n",
              "1          Fancy Baseline (RoBERTa with finetuning)  0.587303  0.759167   \n",
              "2                          MedBERT (with fine-tune)   0.69204  0.781667   \n",
              "3        PubMedBERT + Linear Head (with finetuning)  0.673323  0.782500   \n",
              "4          PubMedBERT + LSTM Head (with finetuning)  0.655659  0.776667   \n",
              "5                   0-Shot Learning (GPT 3.5 Turbo)         -  0.645833   \n",
              "6  0-Shot Learning with Explainatin (GPT 3.5 Turbo)         -  0.669167   \n",
              "7                   2-Shot Learning (GPT 3.5 Turbo)         -  0.688333   \n",
              "8                   3-Shot Learning (GPT 3.5 Turbo)         -  0.655833   \n",
              "\n",
              "         f1  precision    recall epoch  \n",
              "0  0.326872   0.244201  0.494167   3.0  \n",
              "1  0.759407   0.763421  0.759167   3.0  \n",
              "2  0.782680   0.784817  0.781667   3.0  \n",
              "3  0.782968   0.785014  0.782500   3.0  \n",
              "4  0.777184   0.778512  0.776667   3.0  \n",
              "5  0.602510   0.606720  0.645833     -  \n",
              "6  0.622090   0.636917  0.669167     -  \n",
              "7  0.671471   0.674597  0.688333     -  \n",
              "8  0.642635   0.638108  0.655833     -  "
            ],
            "text/html": [
              "\n",
              "  <div id=\"df-b4e97fed-0890-4c90-a630-c48f8b761877\" class=\"colab-df-container\">\n",
              "    <div>\n",
              "<style scoped>\n",
              "    .dataframe tbody tr th:only-of-type {\n",
              "        vertical-align: middle;\n",
              "    }\n",
              "\n",
              "    .dataframe tbody tr th {\n",
              "        vertical-align: top;\n",
              "    }\n",
              "\n",
              "    .dataframe thead th {\n",
              "        text-align: right;\n",
              "    }\n",
              "</style>\n",
              "<table border=\"1\" class=\"dataframe\">\n",
              "  <thead>\n",
              "    <tr style=\"text-align: right;\">\n",
              "      <th></th>\n",
              "      <th>Model</th>\n",
              "      <th>loss</th>\n",
              "      <th>accuracy</th>\n",
              "      <th>f1</th>\n",
              "      <th>precision</th>\n",
              "      <th>recall</th>\n",
              "      <th>epoch</th>\n",
              "    </tr>\n",
              "  </thead>\n",
              "  <tbody>\n",
              "    <tr>\n",
              "      <th>0</th>\n",
              "      <td>Basic Baseline (RoBERTa no finetune)</td>\n",
              "      <td>1.006448</td>\n",
              "      <td>0.494167</td>\n",
              "      <td>0.326872</td>\n",
              "      <td>0.244201</td>\n",
              "      <td>0.494167</td>\n",
              "      <td>3.0</td>\n",
              "    </tr>\n",
              "    <tr>\n",
              "      <th>1</th>\n",
              "      <td>Fancy Baseline (RoBERTa with finetuning)</td>\n",
              "      <td>0.587303</td>\n",
              "      <td>0.759167</td>\n",
              "      <td>0.759407</td>\n",
              "      <td>0.763421</td>\n",
              "      <td>0.759167</td>\n",
              "      <td>3.0</td>\n",
              "    </tr>\n",
              "    <tr>\n",
              "      <th>2</th>\n",
              "      <td>MedBERT (with fine-tune)</td>\n",
              "      <td>0.69204</td>\n",
              "      <td>0.781667</td>\n",
              "      <td>0.782680</td>\n",
              "      <td>0.784817</td>\n",
              "      <td>0.781667</td>\n",
              "      <td>3.0</td>\n",
              "    </tr>\n",
              "    <tr>\n",
              "      <th>3</th>\n",
              "      <td>PubMedBERT + Linear Head (with finetuning)</td>\n",
              "      <td>0.673323</td>\n",
              "      <td>0.782500</td>\n",
              "      <td>0.782968</td>\n",
              "      <td>0.785014</td>\n",
              "      <td>0.782500</td>\n",
              "      <td>3.0</td>\n",
              "    </tr>\n",
              "    <tr>\n",
              "      <th>4</th>\n",
              "      <td>PubMedBERT + LSTM Head (with finetuning)</td>\n",
              "      <td>0.655659</td>\n",
              "      <td>0.776667</td>\n",
              "      <td>0.777184</td>\n",
              "      <td>0.778512</td>\n",
              "      <td>0.776667</td>\n",
              "      <td>3.0</td>\n",
              "    </tr>\n",
              "    <tr>\n",
              "      <th>5</th>\n",
              "      <td>0-Shot Learning (GPT 3.5 Turbo)</td>\n",
              "      <td>-</td>\n",
              "      <td>0.645833</td>\n",
              "      <td>0.602510</td>\n",
              "      <td>0.606720</td>\n",
              "      <td>0.645833</td>\n",
              "      <td>-</td>\n",
              "    </tr>\n",
              "    <tr>\n",
              "      <th>6</th>\n",
              "      <td>0-Shot Learning with Explainatin (GPT 3.5 Turbo)</td>\n",
              "      <td>-</td>\n",
              "      <td>0.669167</td>\n",
              "      <td>0.622090</td>\n",
              "      <td>0.636917</td>\n",
              "      <td>0.669167</td>\n",
              "      <td>-</td>\n",
              "    </tr>\n",
              "    <tr>\n",
              "      <th>7</th>\n",
              "      <td>2-Shot Learning (GPT 3.5 Turbo)</td>\n",
              "      <td>-</td>\n",
              "      <td>0.688333</td>\n",
              "      <td>0.671471</td>\n",
              "      <td>0.674597</td>\n",
              "      <td>0.688333</td>\n",
              "      <td>-</td>\n",
              "    </tr>\n",
              "    <tr>\n",
              "      <th>8</th>\n",
              "      <td>3-Shot Learning (GPT 3.5 Turbo)</td>\n",
              "      <td>-</td>\n",
              "      <td>0.655833</td>\n",
              "      <td>0.642635</td>\n",
              "      <td>0.638108</td>\n",
              "      <td>0.655833</td>\n",
              "      <td>-</td>\n",
              "    </tr>\n",
              "  </tbody>\n",
              "</table>\n",
              "</div>\n",
              "    <div class=\"colab-df-buttons\">\n",
              "\n",
              "  <div class=\"colab-df-container\">\n",
              "    <button class=\"colab-df-convert\" onclick=\"convertToInteractive('df-b4e97fed-0890-4c90-a630-c48f8b761877')\"\n",
              "            title=\"Convert this dataframe to an interactive table.\"\n",
              "            style=\"display:none;\">\n",
              "\n",
              "  <svg xmlns=\"http://www.w3.org/2000/svg\" height=\"24px\" viewBox=\"0 -960 960 960\">\n",
              "    <path d=\"M120-120v-720h720v720H120Zm60-500h600v-160H180v160Zm220 220h160v-160H400v160Zm0 220h160v-160H400v160ZM180-400h160v-160H180v160Zm440 0h160v-160H620v160ZM180-180h160v-160H180v160Zm440 0h160v-160H620v160Z\"/>\n",
              "  </svg>\n",
              "    </button>\n",
              "\n",
              "  <style>\n",
              "    .colab-df-container {\n",
              "      display:flex;\n",
              "      gap: 12px;\n",
              "    }\n",
              "\n",
              "    .colab-df-convert {\n",
              "      background-color: #E8F0FE;\n",
              "      border: none;\n",
              "      border-radius: 50%;\n",
              "      cursor: pointer;\n",
              "      display: none;\n",
              "      fill: #1967D2;\n",
              "      height: 32px;\n",
              "      padding: 0 0 0 0;\n",
              "      width: 32px;\n",
              "    }\n",
              "\n",
              "    .colab-df-convert:hover {\n",
              "      background-color: #E2EBFA;\n",
              "      box-shadow: 0px 1px 2px rgba(60, 64, 67, 0.3), 0px 1px 3px 1px rgba(60, 64, 67, 0.15);\n",
              "      fill: #174EA6;\n",
              "    }\n",
              "\n",
              "    .colab-df-buttons div {\n",
              "      margin-bottom: 4px;\n",
              "    }\n",
              "\n",
              "    [theme=dark] .colab-df-convert {\n",
              "      background-color: #3B4455;\n",
              "      fill: #D2E3FC;\n",
              "    }\n",
              "\n",
              "    [theme=dark] .colab-df-convert:hover {\n",
              "      background-color: #434B5C;\n",
              "      box-shadow: 0px 1px 3px 1px rgba(0, 0, 0, 0.15);\n",
              "      filter: drop-shadow(0px 1px 2px rgba(0, 0, 0, 0.3));\n",
              "      fill: #FFFFFF;\n",
              "    }\n",
              "  </style>\n",
              "\n",
              "    <script>\n",
              "      const buttonEl =\n",
              "        document.querySelector('#df-b4e97fed-0890-4c90-a630-c48f8b761877 button.colab-df-convert');\n",
              "      buttonEl.style.display =\n",
              "        google.colab.kernel.accessAllowed ? 'block' : 'none';\n",
              "\n",
              "      async function convertToInteractive(key) {\n",
              "        const element = document.querySelector('#df-b4e97fed-0890-4c90-a630-c48f8b761877');\n",
              "        const dataTable =\n",
              "          await google.colab.kernel.invokeFunction('convertToInteractive',\n",
              "                                                    [key], {});\n",
              "        if (!dataTable) return;\n",
              "\n",
              "        const docLinkHtml = 'Like what you see? Visit the ' +\n",
              "          '<a target=\"_blank\" href=https://colab.research.google.com/notebooks/data_table.ipynb>data table notebook</a>'\n",
              "          + ' to learn more about interactive tables.';\n",
              "        element.innerHTML = '';\n",
              "        dataTable['output_type'] = 'display_data';\n",
              "        await google.colab.output.renderOutput(dataTable, element);\n",
              "        const docLink = document.createElement('div');\n",
              "        docLink.innerHTML = docLinkHtml;\n",
              "        element.appendChild(docLink);\n",
              "      }\n",
              "    </script>\n",
              "  </div>\n",
              "\n",
              "\n",
              "<div id=\"df-162e4140-401f-4276-8d12-e946121ddcae\">\n",
              "  <button class=\"colab-df-quickchart\" onclick=\"quickchart('df-162e4140-401f-4276-8d12-e946121ddcae')\"\n",
              "            title=\"Suggest charts\"\n",
              "            style=\"display:none;\">\n",
              "\n",
              "<svg xmlns=\"http://www.w3.org/2000/svg\" height=\"24px\"viewBox=\"0 0 24 24\"\n",
              "     width=\"24px\">\n",
              "    <g>\n",
              "        <path d=\"M19 3H5c-1.1 0-2 .9-2 2v14c0 1.1.9 2 2 2h14c1.1 0 2-.9 2-2V5c0-1.1-.9-2-2-2zM9 17H7v-7h2v7zm4 0h-2V7h2v10zm4 0h-2v-4h2v4z\"/>\n",
              "    </g>\n",
              "</svg>\n",
              "  </button>\n",
              "\n",
              "<style>\n",
              "  .colab-df-quickchart {\n",
              "      --bg-color: #E8F0FE;\n",
              "      --fill-color: #1967D2;\n",
              "      --hover-bg-color: #E2EBFA;\n",
              "      --hover-fill-color: #174EA6;\n",
              "      --disabled-fill-color: #AAA;\n",
              "      --disabled-bg-color: #DDD;\n",
              "  }\n",
              "\n",
              "  [theme=dark] .colab-df-quickchart {\n",
              "      --bg-color: #3B4455;\n",
              "      --fill-color: #D2E3FC;\n",
              "      --hover-bg-color: #434B5C;\n",
              "      --hover-fill-color: #FFFFFF;\n",
              "      --disabled-bg-color: #3B4455;\n",
              "      --disabled-fill-color: #666;\n",
              "  }\n",
              "\n",
              "  .colab-df-quickchart {\n",
              "    background-color: var(--bg-color);\n",
              "    border: none;\n",
              "    border-radius: 50%;\n",
              "    cursor: pointer;\n",
              "    display: none;\n",
              "    fill: var(--fill-color);\n",
              "    height: 32px;\n",
              "    padding: 0;\n",
              "    width: 32px;\n",
              "  }\n",
              "\n",
              "  .colab-df-quickchart:hover {\n",
              "    background-color: var(--hover-bg-color);\n",
              "    box-shadow: 0 1px 2px rgba(60, 64, 67, 0.3), 0 1px 3px 1px rgba(60, 64, 67, 0.15);\n",
              "    fill: var(--button-hover-fill-color);\n",
              "  }\n",
              "\n",
              "  .colab-df-quickchart-complete:disabled,\n",
              "  .colab-df-quickchart-complete:disabled:hover {\n",
              "    background-color: var(--disabled-bg-color);\n",
              "    fill: var(--disabled-fill-color);\n",
              "    box-shadow: none;\n",
              "  }\n",
              "\n",
              "  .colab-df-spinner {\n",
              "    border: 2px solid var(--fill-color);\n",
              "    border-color: transparent;\n",
              "    border-bottom-color: var(--fill-color);\n",
              "    animation:\n",
              "      spin 1s steps(1) infinite;\n",
              "  }\n",
              "\n",
              "  @keyframes spin {\n",
              "    0% {\n",
              "      border-color: transparent;\n",
              "      border-bottom-color: var(--fill-color);\n",
              "      border-left-color: var(--fill-color);\n",
              "    }\n",
              "    20% {\n",
              "      border-color: transparent;\n",
              "      border-left-color: var(--fill-color);\n",
              "      border-top-color: var(--fill-color);\n",
              "    }\n",
              "    30% {\n",
              "      border-color: transparent;\n",
              "      border-left-color: var(--fill-color);\n",
              "      border-top-color: var(--fill-color);\n",
              "      border-right-color: var(--fill-color);\n",
              "    }\n",
              "    40% {\n",
              "      border-color: transparent;\n",
              "      border-right-color: var(--fill-color);\n",
              "      border-top-color: var(--fill-color);\n",
              "    }\n",
              "    60% {\n",
              "      border-color: transparent;\n",
              "      border-right-color: var(--fill-color);\n",
              "    }\n",
              "    80% {\n",
              "      border-color: transparent;\n",
              "      border-right-color: var(--fill-color);\n",
              "      border-bottom-color: var(--fill-color);\n",
              "    }\n",
              "    90% {\n",
              "      border-color: transparent;\n",
              "      border-bottom-color: var(--fill-color);\n",
              "    }\n",
              "  }\n",
              "</style>\n",
              "\n",
              "  <script>\n",
              "    async function quickchart(key) {\n",
              "      const quickchartButtonEl =\n",
              "        document.querySelector('#' + key + ' button');\n",
              "      quickchartButtonEl.disabled = true;  // To prevent multiple clicks.\n",
              "      quickchartButtonEl.classList.add('colab-df-spinner');\n",
              "      try {\n",
              "        const charts = await google.colab.kernel.invokeFunction(\n",
              "            'suggestCharts', [key], {});\n",
              "      } catch (error) {\n",
              "        console.error('Error during call to suggestCharts:', error);\n",
              "      }\n",
              "      quickchartButtonEl.classList.remove('colab-df-spinner');\n",
              "      quickchartButtonEl.classList.add('colab-df-quickchart-complete');\n",
              "    }\n",
              "    (() => {\n",
              "      let quickchartButtonEl =\n",
              "        document.querySelector('#df-162e4140-401f-4276-8d12-e946121ddcae button');\n",
              "      quickchartButtonEl.style.display =\n",
              "        google.colab.kernel.accessAllowed ? 'block' : 'none';\n",
              "    })();\n",
              "  </script>\n",
              "</div>\n",
              "    </div>\n",
              "  </div>\n"
            ]
          },
          "metadata": {},
          "execution_count": 227
        }
      ]
    }
  ]
}